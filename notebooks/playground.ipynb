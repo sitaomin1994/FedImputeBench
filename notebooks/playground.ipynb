{
 "cells": [
  {
   "cell_type": "code",
   "execution_count": 1,
   "id": "initial_id",
   "metadata": {
    "collapsed": true,
    "ExecuteTime": {
     "end_time": "2024-03-20T21:06:35.709335Z",
     "start_time": "2024-03-20T21:06:34.653222Z"
    }
   },
   "source": [
    "import pandas as pd"
   ],
   "outputs": []
  },
  {
   "cell_type": "code",
   "source": [
    "from sklearn.datasets import make_moons\n",
    "from sklearn.preprocessing import StandardScaler\n",
    "import matplotlib.pyplot as plt\n",
    "import seaborn as sns\n",
    "import numpy as np\n",
    "\n",
    "def plot_data(Xs, ys, XMs = None, XIMPs = None):\n",
    "    \n",
    "    if XMs is not None and XIMPs is not None:\n",
    "        fig, ax = plt.subplots(1, 4, figsize=(13, 2.5))\n",
    "        for X, y, XM, XIMP in zip(Xs, ys, XMs, XIMPs):\n",
    "            sns.scatterplot(x = X[:, 0], y = X[:, 1], hue=y, ax=ax[0])\n",
    "            missing_condition = np.isnan(XM[:, 1])\n",
    "            # missing data\n",
    "            sns.scatterplot(x = X[~missing_condition, 0], y = X[~missing_condition, 1], hue=y[~missing_condition], ax=ax[1])\n",
    "            sns.scatterplot(x = X[missing_condition, 0], y = X[missing_condition, 1], c = 'grey', ax=ax[1])\n",
    "            # imputed data\n",
    "            sns.scatterplot(x = XIMP[:, 0], y = XIMP[:, 1], hue=y, ax=ax[2])\n",
    "            ax[2].set_ylim(ax[0].get_ylim())\n",
    "            sns.kdeplot(X[~missing_condition, 1], ax=ax[3], fill = True)\n",
    "            \n",
    "    elif XMs is not None and XIMPs is None:\n",
    "        fig, ax = plt.subplots(1, 3, figsize=(10, 2.5))\n",
    "        for X, y, XM in zip(Xs, ys, XMs):\n",
    "            sns.scatterplot(x = X[:, 0], y = X[:, 1], hue=y, ax=ax[0])\n",
    "            missing_condition = np.isnan(XM[:, 1])\n",
    "            sns.scatterplot(x = X[~missing_condition, 0], y = X[~missing_condition, 1], hue=y[~missing_condition], ax=ax[1])\n",
    "            sns.scatterplot(x = X[missing_condition, 0], y = X[missing_condition, 1], c = 'grey', ax=ax[1])\n",
    "            sns.kdeplot(X[~missing_condition, 1], ax=ax[2], fill = True)\n",
    "    else:\n",
    "        fig, ax = plt.subplots(1, 2, figsize=(8, 3))\n",
    "        for X, y in zip(Xs, ys):\n",
    "            x1 = X[:, 1].reshape(-1, 1)\n",
    "            x0 = X[:, 0].reshape(-1, 1)\n",
    "\n",
    "            sns.scatterplot(x = x0.ravel(), y = x1.ravel(), hue=y, ax=ax[0])\n",
    "            sns.kdeplot(x1.ravel(), ax=ax[1], fill = True)\n",
    "            \n",
    "        ax[0].set_xlabel('x0')\n",
    "        ax[0].set_ylabel('x1')\n",
    "        ax[1].set_ylabel('Density of x1')\n",
    "        plt.tight_layout()\n",
    "        plt.show()\n",
    "    \n"
   ],
   "metadata": {
    "collapsed": false,
    "ExecuteTime": {
     "end_time": "2024-03-20T21:11:10.550022Z",
     "start_time": "2024-03-20T21:11:10.539023Z"
    }
   },
   "id": "624f535dc54cd07a",
   "execution_count": 3,
   "outputs": []
  },
  {
   "cell_type": "code",
   "source": [
    "import torch.nn as nn\n",
    "import torch\n",
    "\n",
    "class Ridge(nn.Module):\n",
    "    \n",
    "    def __init__(self, input_dim, alpha = 0.1):\n",
    "        super(Ridge, self).__init__()\n",
    "        self.alpha = alpha\n",
    "        self.linear = nn.Linear(input_dim, 1)\n",
    "        \n",
    "    def forward(self, x):\n",
    "        return self.linear(x)\n",
    "    \n",
    "    def fit(self, X, y):\n",
    "        criterion = nn.MSELoss()\n",
    "        optimizer = torch.optim.SGD(self.parameters(), lr=0.01, weight_decay=self.alpha)\n",
    "        \n",
    "        for epoch in range(1000):\n",
    "            inputs = torch.from_numpy(X).float()\n",
    "            labels = torch.from_numpy(y).float()\n",
    "            \n",
    "            optimizer.zero_grad()\n",
    "            outputs = self(inputs)\n",
    "            loss = criterion(outputs, labels)\n",
    "            loss.backward()\n",
    "            optimizer.step()\n",
    "            \n",
    "            if epoch % 100 == 0:\n",
    "                print('epoch {}, loss {}'.format(epoch, loss.item()))\n",
    "                \n",
    "    def local_fit(self, X, y, local_epoch = 10):\n",
    "        criterion = nn.MSELoss()\n",
    "        optimizer = torch.optim.SGD(self.parameters(), lr=0.01, weight_decay=self.alpha)\n",
    "        \n",
    "        for epoch in range(local_epoch):\n",
    "            inputs = torch.from_numpy(X).float()\n",
    "            labels = torch.from_numpy(y).float()\n",
    "            \n",
    "            optimizer.zero_grad()\n",
    "            outputs = self(inputs)\n",
    "            loss = criterion(outputs, labels)\n",
    "            loss.backward()\n",
    "            optimizer.step()\n",
    "            \n",
    "            if epoch % 100 == 0:\n",
    "                print('epoch {}, loss {}'.format(epoch, loss.item()))\n",
    "        \n",
    "        return deepcopy(self.state_dict())\n",
    "    \n",
    "    def update(self, params):\n",
    "        self.load_state_dict(params)\n",
    "                \n",
    "    def predict(self, X):\n",
    "        inputs = torch.from_numpy(X).float()\n",
    "        return self(inputs).detach().numpy()"
   ],
   "metadata": {
    "collapsed": false,
    "ExecuteTime": {
     "end_time": "2024-03-21T00:28:05.542956Z",
     "start_time": "2024-03-21T00:28:05.521953Z"
    }
   },
   "id": "30e13b4734d35239",
   "execution_count": 62,
   "outputs": []
  },
  {
   "cell_type": "code",
   "source": [
    "X, y = make_moons(n_samples=2500, noise=0.03, random_state=0)\n",
    "plot_data([X], [y])"
   ],
   "metadata": {
    "collapsed": false,
    "ExecuteTime": {
     "end_time": "2024-03-20T21:11:14.601198Z",
     "start_time": "2024-03-20T21:11:14.394174Z"
    }
   },
   "id": "3cfaf66794edf6b8",
   "execution_count": 4,
   "outputs": []
  },
  {
   "cell_type": "code",
   "source": [
    "from copy import deepcopy\n",
    "\n",
    "\n",
    "# we simulate the missing data on the second feature -> x1 (using x0 to predict x1)\n",
    "def make_missing_data(X, feature_idx, q_range = (0, 0.5)):\n",
    "    X_miss = deepcopy(X)\n",
    "    q1 = np.quantile(X[:, feature_idx], q_range[0])\n",
    "    q2 = np.quantile(X[:, feature_idx], q_range[1])\n",
    "    if q_range[1] <= q_range[0]:\n",
    "        X_miss[(X[:, feature_idx] <= q2) | (X[:, feature_idx] >= q1), feature_idx] = np.nan\n",
    "    else:\n",
    "        X_miss[(X[:, feature_idx] >= q1) & (X[:, feature_idx] <= q2), feature_idx] = np.nan\n",
    "    \n",
    "    return X_miss\n",
    "\n",
    "X_miss = make_missing_data(X, 1, q_range = (0.0, 0.5))\n",
    "plot_data([X], [y], [X_miss])"
   ],
   "metadata": {
    "collapsed": false,
    "ExecuteTime": {
     "end_time": "2024-03-20T21:11:53.603326Z",
     "start_time": "2024-03-20T21:11:53.292384Z"
    }
   },
   "id": "269eaf769daa6db8",
   "execution_count": 6,
   "outputs": []
  },
  {
   "cell_type": "code",
   "source": [
    "model = Ridge(input_dim = 1, alpha=0.1)\n",
    "model.fit(X[:, 0].reshape(-1, 1), X[:, 1].reshape(-1, 1))\n",
    "y_pred = model.predict(X[:, 0].reshape(-1, 1))\n",
    "\n",
    "fig, ax = plt.subplots(1, 1, figsize=(4, 3))\n",
    "sns.scatterplot(x = X[:, 0], y = X[:, 1], ax=ax)\n",
    "sns.lineplot(x = X[:, 0], y = y_pred.ravel(), color='red', ax=ax)\n",
    "plt.xlabel('x0')\n",
    "plt.ylabel('x1')\n",
    "plt.show()"
   ],
   "metadata": {
    "collapsed": false,
    "ExecuteTime": {
     "end_time": "2024-03-21T00:15:01.276346Z",
     "start_time": "2024-03-21T00:15:00.828286Z"
    }
   },
   "id": "656963e6964f5e3f",
   "execution_count": 41,
   "outputs": []
  },
  {
   "cell_type": "code",
   "source": [
    "model1 = Ridge(input_dim = 1, alpha=0.1)\n",
    "indices = np.argwhere(y == 0)\n",
    "model1.fit(X[indices, 0].reshape(-1, 1), X[indices, 1].reshape(-1, 1))\n",
    "y_pred = model1.predict(X[:, 0].reshape(-1, 1))\n",
    "\n",
    "fig, ax = plt.subplots(1, 1, figsize=(4, 3))\n",
    "sns.scatterplot(x = X[:, 0], y = X[:, 1], ax=ax, color = 'grey')\n",
    "sns.scatterplot(x = X[indices, 0].ravel(), y = X[indices, 1].ravel(), ax=ax)\n",
    "sns.lineplot(x = X[:, 0], y = y_pred.ravel(), color='red', ax=ax)\n",
    "plt.xlabel('x0')\n",
    "plt.ylabel('x1')\n",
    "plt.show()"
   ],
   "metadata": {
    "collapsed": false,
    "ExecuteTime": {
     "end_time": "2024-03-21T00:25:30.997028Z",
     "start_time": "2024-03-21T00:25:30.786694Z"
    }
   },
   "id": "571da64fe99d452b",
   "execution_count": 58,
   "outputs": []
  },
  {
   "cell_type": "code",
   "source": [
    "model2 = Ridge(input_dim = 1, alpha=0.1)\n",
    "indices = np.argwhere(y == 1)\n",
    "model2.fit(X[indices, 0].reshape(-1, 1), X[indices, 1].reshape(-1, 1))\n",
    "y_pred = model2.predict(X[:, 0].reshape(-1, 1))\n",
    "\n",
    "fig, ax = plt.subplots(1, 1, figsize=(4, 3))\n",
    "sns.scatterplot(x = X[:, 0], y = X[:, 1], ax=ax, color = 'grey')\n",
    "sns.scatterplot(x = X[indices, 0].ravel(), y = X[indices, 1].ravel(), ax=ax)\n",
    "sns.lineplot(x = X[:, 0], y = y_pred.ravel(), color='red', ax=ax)\n",
    "plt.xlabel('x0')\n",
    "plt.ylabel('x1')\n",
    "plt.show()"
   ],
   "metadata": {
    "collapsed": false,
    "ExecuteTime": {
     "end_time": "2024-03-21T00:25:33.170631Z",
     "start_time": "2024-03-21T00:25:32.961003Z"
    }
   },
   "id": "4c03433b8b4a05f8",
   "execution_count": 59,
   "outputs": []
  },
  {
   "cell_type": "code",
   "source": [
    "def fedavg(params_list):\n",
    "    avg_params = deepcopy(params_list[0])\n",
    "    for key, value in params_list[0].items():\n",
    "        for i in range(1, len(params_list)):\n",
    "            value += params_list[i][key]\n",
    "        value /= len(params_list)\n",
    "        avg_params[key] = value\n",
    "    return avg_params"
   ],
   "metadata": {
    "collapsed": false,
    "ExecuteTime": {
     "end_time": "2024-03-21T00:25:34.106201Z",
     "start_time": "2024-03-21T00:25:34.091820Z"
    }
   },
   "id": "109b26c2e2aca476",
   "execution_count": 60,
   "outputs": []
  },
  {
   "cell_type": "code",
   "source": [
    "# one-shot averaging\n",
    "model_avg = Ridge(input_dim = 1, alpha=0.1)\n",
    "model_avg.fit(X[:, 0].reshape(-1, 1), X[:, 1].reshape(-1, 1))\n",
    "\n",
    "avg_params = fedavg([deepcopy(model1.state_dict()), deepcopy(model2.state_dict())])\n",
    "model_avg.load_state_dict(avg_params)\n",
    "y_pred = model_avg.predict(X[:, 0].reshape(-1, 1))\n",
    "\n",
    "fig, ax = plt.subplots(1, 1, figsize=(4, 3))\n",
    "sns.scatterplot(x = X[:, 0], y = X[:, 1], ax=ax)\n",
    "sns.lineplot(x = X[:, 0], y = y_pred.ravel(), color='red', ax=ax)\n",
    "plt.xlabel('x0')\n",
    "plt.ylabel('x1')\n",
    "plt.show()\n"
   ],
   "metadata": {
    "collapsed": false,
    "ExecuteTime": {
     "end_time": "2024-03-21T00:25:35.739867Z",
     "start_time": "2024-03-21T00:25:35.333541Z"
    }
   },
   "id": "db0bff7f7cb21169",
   "execution_count": 61,
   "outputs": []
  },
  {
   "cell_type": "code",
   "source": [
    "# sdg averaging\n",
    "local_epoch = 10\n",
    "model1 = Ridge(input_dim = 1, alpha=0.1)\n",
    "model2 = Ridge(input_dim = 1, alpha=0.1)\n",
    "\n",
    "global_epoch = 100\n",
    "\n",
    "for epoch in range(global_epoch):\n",
    "    indices = np.argwhere(y == 0)\n",
    "    params1 = model1.local_fit(X[indices, 0].reshape(-1, 1), X[indices, 1].reshape(-1, 1), local_epoch)\n",
    "    indices = np.argwhere(y == 1)\n",
    "    params2 = model2.local_fit(X[indices, 0].reshape(-1, 1), X[indices, 1].reshape(-1, 1), local_epoch)\n",
    "    \n",
    "    avg_params = fedavg([deepcopy(params1), deepcopy(params2)])\n",
    "    model1.update(avg_params)\n",
    "    model2.update(avg_params)\n",
    "    print('epoch {}'.format(epoch))\n",
    "\n",
    "model_avg = Ridge(input_dim = 1, alpha=0.1)\n",
    "model_avg.load_state_dict(avg_params)\n",
    "\n",
    "y_pred = model_avg.predict(X[:, 0].reshape(-1, 1))\n",
    "fig, ax = plt.subplots(1, 1, figsize=(4, 3))\n",
    "sns.scatterplot(x = X[:, 0], y = X[:, 1], ax=ax)\n",
    "sns.lineplot(x = X[:, 0], y = y_pred.ravel(), color='red', ax=ax)\n",
    "plt.xlabel('x0')\n",
    "plt.ylabel('x1')\n",
    "plt.show()\n",
    "\n"
   ],
   "metadata": {
    "collapsed": false,
    "ExecuteTime": {
     "end_time": "2024-03-21T00:29:49.273062Z",
     "start_time": "2024-03-21T00:29:48.871392Z"
    }
   },
   "id": "612734b32c35e5df",
   "execution_count": 63,
   "outputs": []
  },
  {
   "cell_type": "code",
   "source": [
    "from sklearn.linear_model import LogisticRegressionCV\n",
    "indices = np.argwhere(y == 0)\n",
    "mask = y == 0\n",
    "\n",
    "mm_model = LogisticRegressionCV(cv=5, Cs = [1], random_state=0)\n",
    "mm_model.fit(X, mask.ravel())\n",
    "\n",
    "miss_prob = mm_model.predict_proba(X)\n",
    "\n",
    "fig, ax = plt.subplots(1, 1, figsize=(4, 3))\n",
    "sns.scatterplot(x = X[:, 1], y = miss_prob[:, 1], ax=ax)\n",
    "plt.xlabel('x1')\n",
    "plt.ylabel('Probability of y=1')"
   ],
   "metadata": {
    "collapsed": false,
    "ExecuteTime": {
     "end_time": "2024-03-21T01:01:27.536582Z",
     "start_time": "2024-03-21T01:01:27.419155Z"
    }
   },
   "id": "8a5d632a16309dfc",
   "execution_count": 93,
   "outputs": []
  },
  {
   "cell_type": "code",
   "source": [
    "# mixing of local and global model\n",
    "\n",
    "local_epoch = 10\n",
    "model1 = Ridge(input_dim = 1, alpha=0.1)\n",
    "model2 = Ridge(input_dim = 1, alpha=0.1)\n",
    "\n",
    "global_epoch = 100\n",
    "\n",
    "for epoch in range(global_epoch):\n",
    "    indices = np.argwhere(y == 0)\n",
    "    params1 = model1.local_fit(X[indices, 0].reshape(-1, 1), X[indices, 1].reshape(-1, 1), local_epoch)\n",
    "    indices = np.argwhere(y == 1)\n",
    "    params2 = model2.local_fit(X[indices, 0].reshape(-1, 1), X[indices, 1].reshape(-1, 1), local_epoch)\n",
    "    \n",
    "    avg_params = fedavg([deepcopy(params1), deepcopy(params2)])\n",
    "    model1.update(avg_params)\n",
    "    model2.update(avg_params)\n",
    "    print('epoch {}'.format(epoch))\n",
    "\n",
    "model_avg = Ridge(input_dim = 1, alpha=0.1)\n",
    "model_avg.load_state_dict(avg_params)\n",
    "\n",
    "y_pred_g = model_avg.predict(X[:, 0].reshape(-1, 1))\n",
    "\n",
    "model1 = Ridge(input_dim = 1, alpha=0.1)\n",
    "model2 = Ridge(input_dim = 1, alpha=0.1)\n",
    "indices = np.argwhere(y == 0)\n",
    "model1.fit(X[indices, 0].reshape(-1, 1), X[indices, 1].reshape(-1, 1))\n",
    "indices = np.argwhere(y == 1)\n",
    "model2.fit(X[indices, 0].reshape(-1, 1), X[indices, 1].reshape(-1, 1))\n",
    "y_pred_m1 = model1.predict(X[:, 0].reshape(-1, 1))\n",
    "y_pred_m2 = model2.predict(X[:, 0].reshape(-1, 1))\n",
    "\n",
    "# mm_model\n",
    "mask = y == 0\n",
    "mm_model1 = LogisticRegressionCV(cv=5, Cs = [0.1], random_state=0, class_weight='balanced')\n",
    "mm_model1.fit(X[:, 0].reshape(-1, 1), mask.ravel())\n",
    "miss_prob1 = mm_model1.predict_proba(X[:, 0].reshape(-1, 1))[:, 1]\n",
    "\n",
    "mask = y == 1\n",
    "mm_model2 = LogisticRegressionCV(cv=5, Cs = [0.1], random_state=0, class_weight='balanced')\n",
    "mm_model2.fit(X[:, 0].reshape(-1, 1), mask.ravel())\n",
    "miss_prob2 = mm_model2.predict_proba(X[:, 0].reshape(-1, 1))[:, 1]\n",
    "\n",
    "y_pred_m1_new = y_pred_g.ravel() * (1/miss_prob2)  -  y_pred_m1.ravel() * (1 - miss_prob2)/miss_prob2\n",
    "y_pred_m2_new = y_pred_g.ravel() * (1/miss_prob1)  -  y_pred_m2.ravel() * (1 - miss_prob1)/miss_prob1\n",
    "\n",
    "fig, ax = plt.subplots(1, 1, figsize=(4, 3))\n",
    "sns.scatterplot(x = X[:, 0], y = X[:, 1], ax=ax, color = 'grey')\n",
    "indices = np.argwhere(y == 0)\n",
    "sns.scatterplot(x = X[indices, 0].ravel(), y = X[indices, 1].ravel(), ax=ax)\n",
    "sns.lineplot(x = X[:, 0], y = y_pred_m1_new.ravel(), color='green', ax=ax, linestyle='--', label='combined model*')\n",
    "sns.lineplot(x = X[:, 0], y = y_pred_m1.ravel(), color='red', ax=ax, linestyle='-', label = 'local model (observed data)')\n",
    "#sns.lineplot(x = X[:, 0], y = y_pred_m2_new.ravel(), color='green', ax=ax, linestyle='--')\n",
    "sns.lineplot(x = X[:, 0], y = y_pred_m2.ravel(), color='red', ax=ax, linestyle='-.', label = 'true model from missing data')\n",
    "sns.lineplot(x = X[:, 0], y = y_pred_g.ravel(), color='blue', ax=ax, label='global model (all data)')\n",
    "plt.xlabel('x0')\n",
    "plt.ylabel('x1')\n",
    "plt.legend(bbox_to_anchor=(1.05, 1), loc='upper left')\n",
    "plt.show()"
   ],
   "metadata": {
    "collapsed": false,
    "ExecuteTime": {
     "end_time": "2024-03-21T01:26:34.337776Z",
     "start_time": "2024-03-21T01:26:33.658856Z"
    }
   },
   "id": "77f5870707580dad",
   "execution_count": 112,
   "outputs": []
  },
  {
   "cell_type": "code",
   "source": [
    "# mixing of local and global model\n",
    "\n",
    "local_epoch = 10\n",
    "model1 = Ridge(input_dim = 1, alpha=0.1)\n",
    "model2 = Ridge(input_dim = 1, alpha=0.1)\n",
    "\n",
    "global_epoch = 100\n",
    "\n",
    "for epoch in range(global_epoch):\n",
    "    indices = np.argwhere(y == 0)\n",
    "    params1 = model1.local_fit(X[indices, 0].reshape(-1, 1), X[indices, 1].reshape(-1, 1), local_epoch)\n",
    "    indices = np.argwhere(y == 1)\n",
    "    params2 = model2.local_fit(X[indices, 0].reshape(-1, 1), X[indices, 1].reshape(-1, 1), local_epoch)\n",
    "    \n",
    "    avg_params = fedavg([deepcopy(params1), deepcopy(params2)])\n",
    "    model1.update(avg_params)\n",
    "    model2.update(avg_params)\n",
    "    print('epoch {}'.format(epoch))\n",
    "\n",
    "model_avg = Ridge(input_dim = 1, alpha=0.1)\n",
    "model_avg.load_state_dict(avg_params)\n",
    "\n",
    "y_pred_g = model_avg.predict(X[:, 0].reshape(-1, 1))\n",
    "\n",
    "model1 = Ridge(input_dim = 1, alpha=0.1)\n",
    "model2 = Ridge(input_dim = 1, alpha=0.1)\n",
    "indices = np.argwhere(y == 0)\n",
    "model1.fit(X[indices, 0].reshape(-1, 1), X[indices, 1].reshape(-1, 1))\n",
    "indices = np.argwhere(y == 1)\n",
    "model2.fit(X[indices, 0].reshape(-1, 1), X[indices, 1].reshape(-1, 1))\n",
    "y_pred_m1 = model1.predict(X[:, 0].reshape(-1, 1))\n",
    "y_pred_m2 = model2.predict(X[:, 0].reshape(-1, 1))\n",
    "\n",
    "# mm_model\n",
    "mask = y == 0\n",
    "mm_model1 = LogisticRegressionCV(cv=5, Cs = [0.1], random_state=0, class_weight='balanced')\n",
    "mm_model1.fit(X[:, 0].reshape(-1, 1), mask.ravel())\n",
    "miss_prob1 = mm_model1.predict_proba(X[:, 0].reshape(-1, 1))[:, 1]\n",
    "\n",
    "mask = y == 1\n",
    "mm_model2 = LogisticRegressionCV(cv=5, Cs = [0.1], random_state=0, class_weight='balanced')\n",
    "mm_model2.fit(X[:, 0].reshape(-1, 1), mask.ravel())\n",
    "miss_prob2 = mm_model2.predict_proba(X[:, 0].reshape(-1, 1))[:, 1]\n",
    "\n",
    "y_pred_m1_new = y_pred_g.ravel() * (1/miss_prob2)  -  y_pred_m1.ravel() * (1 - miss_prob2)/miss_prob2\n",
    "y_pred_m2_new = y_pred_g.ravel() * (1/miss_prob1)  -  y_pred_m2.ravel() * (1 - miss_prob1)/miss_prob1\n",
    "\n",
    "fig, ax = plt.subplots(1, 1, figsize=(4, 3))\n",
    "sns.scatterplot(x = X[:, 0], y = X[:, 1], ax=ax, color = 'grey')\n",
    "indices = np.argwhere(y == 1)\n",
    "sns.scatterplot(x = X[indices, 0].ravel(), y = X[indices, 1].ravel(), ax=ax)\n",
    "sns.lineplot(x = X[:, 0], y = y_pred_m2_new.ravel(), color='green', ax=ax, linestyle='--', label='combined model*')\n",
    "sns.lineplot(x = X[:, 0], y = y_pred_m2.ravel(), color='red', ax=ax, linestyle='-', label = 'local model (observed data)')\n",
    "#sns.lineplot(x = X[:, 0], y = y_pred_m2_new.ravel(), color='green', ax=ax, linestyle='--')\n",
    "sns.lineplot(x = X[:, 0], y = y_pred_m1.ravel(), color='red', ax=ax, linestyle='-.', label = 'true model from missing data')\n",
    "sns.lineplot(x = X[:, 0], y = y_pred_g.ravel(), color='blue', ax=ax, label='global model (all data)')\n",
    "plt.xlabel('x0')\n",
    "plt.ylabel('x1')\n",
    "plt.legend(bbox_to_anchor=(1.05, 1), loc='upper left')\n",
    "plt.show()"
   ],
   "metadata": {
    "collapsed": false,
    "ExecuteTime": {
     "end_time": "2024-03-21T01:47:15.289194Z",
     "start_time": "2024-03-21T01:47:14.556205Z"
    }
   },
   "id": "ac2ca1265b120298",
   "execution_count": 114,
   "outputs": []
  },
  {
   "cell_type": "code",
   "source": [],
   "metadata": {
    "collapsed": false
   },
   "id": "2e15ea92a96847b",
   "execution_count": null,
   "outputs": []
  }
 ],
 "metadata": {
  "kernelspec": {
   "display_name": "Python 3",
   "language": "python",
   "name": "python3"
  },
  "language_info": {
   "codemirror_mode": {
    "name": "ipython",
    "version": 2
   },
   "file_extension": ".py",
   "mimetype": "text/x-python",
   "name": "python",
   "nbconvert_exporter": "python",
   "pygments_lexer": "ipython2",
   "version": "2.7.6"
  }
 },
 "nbformat": 4,
 "nbformat_minor": 5
}
