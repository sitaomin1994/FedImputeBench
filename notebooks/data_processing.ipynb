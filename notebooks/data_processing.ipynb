{
 "cells": [
  {
   "cell_type": "code",
   "execution_count": 1,
   "id": "initial_id",
   "metadata": {
    "collapsed": true
   },
   "outputs": [
    {
     "name": "stdout",
     "output_type": "stream",
     "text": [
      "d:\\research\\fedmiss_bench\n"
     ]
    }
   ],
   "source": [
    "cd .."
   ]
  },
  {
   "cell_type": "code",
   "execution_count": 2,
   "id": "9b26046a",
   "metadata": {},
   "outputs": [],
   "source": [
    "%load_ext autoreload\n",
    "%autoreload 2\n",
    "%load_ext dotenv\n",
    "%dotenv\n",
    "import pandas as pd\n",
    "from src.loaders.load_data import load_data\n",
    "from collections import OrderedDict\n",
    "import numpy as np"
   ]
  },
  {
   "cell_type": "code",
   "execution_count": 3,
   "id": "e54e941e",
   "metadata": {},
   "outputs": [
    {
     "data": {
      "text/plain": [
       "array([[9.],\n",
       "       [9.],\n",
       "       [0.],\n",
       "       [0.],\n",
       "       [0.],\n",
       "       [9.],\n",
       "       [0.],\n",
       "       [9.],\n",
       "       [9.],\n",
       "       [9.],\n",
       "       [0.],\n",
       "       [9.],\n",
       "       [0.],\n",
       "       [9.],\n",
       "       [0.],\n",
       "       [0.],\n",
       "       [9.],\n",
       "       [9.],\n",
       "       [0.],\n",
       "       [0.],\n",
       "       [0.],\n",
       "       [9.],\n",
       "       [0.],\n",
       "       [0.],\n",
       "       [9.],\n",
       "       [0.],\n",
       "       [9.],\n",
       "       [9.],\n",
       "       [0.],\n",
       "       [0.],\n",
       "       [9.],\n",
       "       [0.],\n",
       "       [0.],\n",
       "       [9.],\n",
       "       [0.],\n",
       "       [9.],\n",
       "       [9.],\n",
       "       [9.],\n",
       "       [9.],\n",
       "       [9.],\n",
       "       [0.],\n",
       "       [0.],\n",
       "       [0.],\n",
       "       [9.],\n",
       "       [9.],\n",
       "       [0.],\n",
       "       [0.],\n",
       "       [9.],\n",
       "       [0.],\n",
       "       [9.],\n",
       "       [0.],\n",
       "       [0.],\n",
       "       [9.],\n",
       "       [0.],\n",
       "       [0.],\n",
       "       [0.],\n",
       "       [0.],\n",
       "       [0.],\n",
       "       [0.],\n",
       "       [0.],\n",
       "       [9.],\n",
       "       [9.],\n",
       "       [0.],\n",
       "       [0.],\n",
       "       [9.],\n",
       "       [9.],\n",
       "       [0.],\n",
       "       [9.],\n",
       "       [9.],\n",
       "       [9.],\n",
       "       [9.],\n",
       "       [9.],\n",
       "       [0.],\n",
       "       [9.],\n",
       "       [0.],\n",
       "       [0.],\n",
       "       [0.],\n",
       "       [9.],\n",
       "       [0.],\n",
       "       [9.],\n",
       "       [0.],\n",
       "       [9.],\n",
       "       [9.],\n",
       "       [0.],\n",
       "       [9.],\n",
       "       [9.],\n",
       "       [0.],\n",
       "       [9.],\n",
       "       [0.],\n",
       "       [9.],\n",
       "       [0.],\n",
       "       [9.],\n",
       "       [9.],\n",
       "       [9.],\n",
       "       [0.],\n",
       "       [0.],\n",
       "       [9.],\n",
       "       [9.],\n",
       "       [9.],\n",
       "       [9.]])"
      ]
     },
     "execution_count": 3,
     "metadata": {},
     "output_type": "execute_result"
    }
   ],
   "source": [
    "from sklearn.preprocessing import KBinsDiscretizer\n",
    "X = np.random.choice([0, 1], size=(100, 1))\n",
    "est = KBinsDiscretizer(n_bins=10, encode='ordinal', strategy='uniform', subsample = None)\n",
    "est.fit_transform(X)"
   ]
  },
  {
   "cell_type": "markdown",
   "id": "29962f1a",
   "metadata": {},
   "source": [
    "## Functions"
   ]
  },
  {
   "cell_type": "code",
   "execution_count": 4,
   "id": "ff9a9f4a",
   "metadata": {},
   "outputs": [],
   "source": [
    "import matplotlib.pyplot as plt\n",
    "import seaborn as sns\n",
    "\n",
    "def show_heatmap(df, figsize=(8, 6)):\n",
    "    plt.figure(figsize=figsize)\n",
    "    sns.heatmap(df.corr(), annot=True, fmt=\".1f\")\n",
    "    plt.show()"
   ]
  },
  {
   "cell_type": "code",
   "execution_count": 5,
   "id": "c065f7f0",
   "metadata": {},
   "outputs": [],
   "source": [
    "def avg_correlation(df):\n",
    "    avg_correlation_cols = list(OrderedDict(df.corr().abs().mean().sort_values(ascending=False).to_dict()).items())\n",
    "    features = set(df.columns.tolist()[:-1])\n",
    "    avg_correlation_cols = [col for col in avg_correlation_cols if col[0] in features]\n",
    "    return avg_correlation_cols"
   ]
  },
  {
   "cell_type": "code",
   "execution_count": 6,
   "id": "9707b1d5",
   "metadata": {},
   "outputs": [],
   "source": [
    "from sklearn.cluster import KMeans\n",
    "def kbins(data, data_config):\n",
    "\n",
    "    est = KMeans(n_clusters=10, random_state=0)\n",
    "\n",
    "    X = data.iloc[:, data_config['split_col_idx']].values\n",
    "    X = est.fit_predict(X)\n",
    "    \n",
    "    return X"
   ]
  },
  {
   "cell_type": "markdown",
   "id": "494b7397",
   "metadata": {},
   "source": [
    "## Codrna"
   ]
  },
  {
   "cell_type": "code",
   "execution_count": 7,
   "id": "7f594643",
   "metadata": {},
   "outputs": [],
   "source": [
    "df, data_config = load_data('codrna')\n",
    "show_heatmap(df,  figsize = (6,4))\n",
    "print(avg_correlation(df))\n",
    "print(data_config)"
   ]
  },
  {
   "cell_type": "code",
   "execution_count": 38,
   "id": "abd0da75",
   "metadata": {},
   "outputs": [],
   "source": [
    "avg_cols = avg_correlation(df)\n",
    "avg_cols = [col[0] for col in avg_cols]\n",
    "split_col_idx = [df.columns.tolist().index(col) for col in avg_cols]\n",
    "split_col_idx"
   ]
  },
  {
   "cell_type": "code",
   "execution_count": 63,
   "id": "c881b23c",
   "metadata": {},
   "outputs": [],
   "source": [
    "cl = kbins(df, data_config)\n",
    "np.unique(cl, return_counts=True)"
   ]
  },
  {
   "cell_type": "code",
   "execution_count": 41,
   "id": "e0752c46",
   "metadata": {},
   "outputs": [],
   "source": [
    "data_config"
   ]
  },
  {
   "cell_type": "markdown",
   "id": "c9b14ce9",
   "metadata": {},
   "source": [
    "## HHP"
   ]
  },
  {
   "cell_type": "code",
   "execution_count": 95,
   "id": "14b452c6",
   "metadata": {},
   "outputs": [
    {
     "name": "stdout",
     "output_type": "stream",
     "text": [
      "(1764556, 20)\n",
      "(207078, 20)\n",
      "29\n",
      "11\n",
      "(20000, 41)\n"
     ]
    }
   ],
   "source": [
    "\n",
    "############################################################################################################\n",
    "# Load data\n",
    "# members\n",
    "df_members = pd.read_csv('./data/HHP_herritage_health/Members.csv')\n",
    "df_members['Sex'] = df_members['Sex'].map({'M': 1, 'F': 0})\n",
    "df_members['AgeAtFirstClaim'] = df_members['AgeAtFirstClaim'].map({\n",
    "    '0-9': 5,\n",
    "    '10-19': 15,\n",
    "    '20-29': 25,\n",
    "    '30-39': 35,\n",
    "    '40-49': 45,\n",
    "    '50-59': 55,\n",
    "    '60-69': 65,\n",
    "    '70-79': 75,\n",
    "    '80+': 90\n",
    "})\n",
    "\n",
    "# drug and lab\n",
    "df_drug = pd.read_csv('./data/HHP_herritage_health/DrugCount.csv')\n",
    "df_drug['DrugCount'] = df_drug['DrugCount'].map({'1': 1, '2': 2, '3': 3, '4': 4, '5': 5, '6': 6, '7+': 10})\n",
    "df_lab = pd.read_csv('./data/HHP_herritage_health/LabCount.csv')\n",
    "df_lab['LabCount'] = df_lab['LabCount'].map(\n",
    "    {'1': 1, '2': 2, '3': 3, '4': 4, '5': 5, '6': 6, '7': 7, '8': 8, '9': 9, '10+': 12}\n",
    ")\n",
    "\n",
    "# days\n",
    "df_days_y2 = pd.read_csv('./data/HHP_herritage_health/DaysInHospital_Y2.csv')\n",
    "df_days_y2['Year'] = 'Y1'\n",
    "df_days_y3 = pd.read_csv('./data/HHP_herritage_health/DaysInHospital_Y3.csv')\n",
    "df_days_y3['Year'] = 'Y2'\n",
    "\n",
    "df_days = pd.concat([df_days_y2, df_days_y3])\n",
    "\n",
    "df_claims = pd.read_csv('./data/HHP_herritage_health/Claims.csv')\n",
    "\n",
    "# divide by provider\n",
    "# providers = df_claims['ProviderID'].value_counts().iloc[: 10].index.tolist()\n",
    "# df_claims = df_claims[df_claims['ProviderID'].isin(providers)]\n",
    "# print(df_claims.shape)\n",
    "\n",
    "df_claims = pd.merge(df_claims, df_members, on='MemberID', how='left')\n",
    "df_claims = pd.merge(df_claims, df_drug, on=['MemberID', 'Year', 'DSFS'], how='left')\n",
    "df_claims = pd.merge(df_claims, df_lab, on=['MemberID', 'Year', 'DSFS'], how='left')\n",
    "df_claims = pd.merge(df_claims, df_days, on=['MemberID', 'Year'], how='left')\n",
    "df_claims = df_claims[df_claims['DaysInHospital'].notna()]\n",
    "print(df_claims.shape)\n",
    "\n",
    "#################################################################################################################\n",
    "# Feature engineering\n",
    "# drop missing age and sex\n",
    "df_claims = df_claims[df_claims['AgeAtFirstClaim'].notna()].copy()\n",
    "df_claims = df_claims[df_claims['Sex'].notna()].copy()\n",
    "df_claims = df_claims[df_claims['DSFS'].notna()].copy()\n",
    "\n",
    "# transform categorical columns\n",
    "def transform1(row):\n",
    "    if pd.isna(row):\n",
    "        return 'None'\n",
    "    else:\n",
    "        return str(int(row))\n",
    "    \n",
    "df_claims['ProviderID'] = df_claims['ProviderID'].map(transform1)\n",
    "df_claims['Vendor'] = df_claims['Vendor'].map(transform1)\n",
    "df_claims['PCP'] = df_claims['PCP'].map(transform1)\n",
    "\n",
    "# handle missing values for categorical columns\n",
    "df_claims['ProcedureGroup'] = df_claims['ProcedureGroup'].fillna('None', inplace=False)\n",
    "df_claims['Specialty'] = df_claims['Specialty'].fillna('None', inplace=False)\n",
    "df_claims['PrimaryConditionGroup'] = df_claims['PrimaryConditionGroup'].fillna('None', inplace=False)\n",
    "df_claims['PlaceSvc'] = df_claims['PlaceSvc'].fillna('None', inplace=False)\n",
    "\n",
    "# encode number of columns\n",
    "df_claims['CharlsonIndex'] = df_claims['CharlsonIndex'].map({'0': 0, '1-2': 1.5, '3-4': 3.5, '5+': 7})\n",
    "df_claims['PayDelay'] = df_claims['PayDelay'].apply(lambda row: int(row) if row != '162+' else 200)\n",
    "df_claims['LengthOfStay'] = df_claims['LengthOfStay'].map({\n",
    "    '1 day': 1, '2 days': 2, '3 days': 3, '4 days': 4, '5 days': 5, '6 days': 6, '1- 2 weeks': 10, '2- 4 weeks': 21, '4- 8 weeks': 42,\n",
    "})\n",
    "df_claims['DSFS'] = df_claims['DSFS'].map({\n",
    "    '0- 1 month': 1, '1- 2 months': 2, '2- 3 months': 3, '3- 4 months': 4, '4- 5 months': 5, '5- 6 months': 6, \n",
    "    '6- 7 months': 7, '7- 8 months': 8, '8- 9 months': 9, '9-10 months': 10, '10-11 months': 11, '11-12 months': 12\n",
    "})\n",
    "\n",
    "# filter all large claims\n",
    "df_claims = df_claims[df_claims['DaysInHospital'] > 0].copy()\n",
    "print(df_claims.shape)\n",
    "\n",
    "# fill mean values for drug and lab counts\n",
    "df_claims['DrugCount'] = df_claims['DrugCount'].fillna(df_claims['DrugCount'].mean(), inplace=False)\n",
    "df_claims['LabCount'] = df_claims['LabCount'].fillna(df_claims['LabCount'].mean(), inplace=False)\n",
    "\n",
    "# drop length of stay\n",
    "df_claims = df_claims.drop(columns=['LengthOfStay'])\n",
    "\n",
    "#########################################################################################################################\n",
    "# Feature selection\n",
    "# numerical features\n",
    "def feature_agg(df, key):\n",
    "    ret = df.groupby(['MemberID', 'Year']).agg(\n",
    "        **{\n",
    "            key+'_mean': pd.NamedAgg(column=key, aggfunc='mean'),\n",
    "            key+'_std': pd.NamedAgg(column=key, aggfunc='std'),\n",
    "            key+'_max': pd.NamedAgg(column=key, aggfunc='max'),\n",
    "            key+'_min': pd.NamedAgg(column=key, aggfunc='min'),\n",
    "        }\n",
    "    )\n",
    "\n",
    "    ret[f'{key}_range'] = ret[f'{key}_max'] - ret[f'{key}_min']\n",
    "    ret = ret.reset_index()\n",
    "    ret = ret.drop(columns=[f'{key}_min'])\n",
    "    \n",
    "    df = pd.merge(df, ret, on=['MemberID', 'Year'], how='left')\n",
    "    df = df.drop(columns=[key])\n",
    "    \n",
    "    return df\n",
    "\n",
    "df_claims = feature_agg(df_claims, 'DSFS')\n",
    "df_claims = feature_agg(df_claims, 'PayDelay')\n",
    "df_claims = feature_agg(df_claims, 'CharlsonIndex')\n",
    "df_claims = feature_agg(df_claims, 'DrugCount')\n",
    "df_claims = feature_agg(df_claims, 'LabCount')\n",
    "\n",
    "def feature_agg2(df, key):\n",
    "    df = df.groupby(['MemberID', 'Year']).agg(key).nunique().reset_index(name = key+'_counts')\n",
    "    df = pd.merge(df_claims, df, on = ['MemberID', 'Year'], how = 'left')\n",
    "    return df\n",
    "\n",
    "df_claims = feature_agg2(df_claims, 'ProviderID')\n",
    "df_claims = feature_agg2(df_claims, 'Vendor')\n",
    "df_claims = feature_agg2(df_claims, 'PCP')\n",
    "df_claims = feature_agg2(df_claims, 'Specialty')\n",
    "df_claims = feature_agg2(df_claims, 'PlaceSvc')\n",
    "df_claims = feature_agg2(df_claims, 'PrimaryConditionGroup')\n",
    "df_claims = feature_agg2(df_claims, 'ProcedureGroup')\n",
    "ret = df_claims.groupby(['MemberID', 'Year']).size().reset_index(name = 'claim_counts')\n",
    "df_claims = pd.merge(df_claims, ret, on = ['MemberID', 'Year'], how = 'left')\n",
    "\n",
    "df_claims.fillna(0, inplace=True)\n",
    "\n",
    "# categoorical one-hot features\n",
    "top_k = 2\n",
    "for col in ['Specialty', 'PlaceSvc', 'PrimaryConditionGroup', 'ProcedureGroup']:\n",
    "    top_k_cols = pd.get_dummies(df_claims[col]).corrwith(df_claims['DaysInHospital']).abs().sort_values(ascending = False)[:top_k]\n",
    "    dummies = pd.get_dummies(df_claims[col])[top_k_cols.index]\n",
    "    dummies.columns = [f'{col}_{idx}' for idx in range(len(dummies.columns))]\n",
    "    df_claims = pd.concat([df_claims, dummies], axis = 1)\n",
    "    df_claims.drop(columns = [col], inplace = True)\n",
    "    \n",
    "df_claims = df_claims.drop(columns = ['MemberID', 'ProviderID', 'Vendor', 'PCP', 'Year'])\n",
    "\n",
    "#########################################################################################################################\n",
    "# Split data\n",
    "# columns\n",
    "num_cols = ['AgeAtFirstClaim']\n",
    "for col in ['CharlsonIndex', 'PayDelay', 'DrugCount', 'LabCount', 'DSFS']:\n",
    "    num_cols += [f'{col}_mean', f'{col}_std', f'{col}_max', f'{col}_range']\n",
    "for col in ['ProviderID', 'Vendor', 'PCP', 'Specialty', 'PlaceSvc', 'PrimaryConditionGroup', 'ProcedureGroup', 'claim']:\n",
    "    num_cols += [f'{col}_counts']\n",
    "print(len(num_cols))\n",
    "\n",
    "cat_cols = ['Sex', 'SupLOS', 'ClaimsTruncated']\n",
    "cat_cols += [f'{col}_{idx}' for col in ['Specialty', 'PlaceSvc', 'PrimaryConditionGroup', 'ProcedureGroup'] for idx in range(top_k)]\n",
    "print(len(cat_cols))\n",
    "\n",
    "target = 'DaysInHospital'\n",
    "\n",
    "# sample data\n",
    "df_claims_sample = df_claims.sample(n = 20000, random_state=42)\n",
    "\n",
    "# standardize\n",
    "from sklearn.preprocessing import StandardScaler, MinMaxScaler\n",
    "\n",
    "scaler = StandardScaler()\n",
    "df_claims_sample[num_cols] = scaler.fit_transform(df_claims_sample[num_cols])\n",
    "scaler = MinMaxScaler()\n",
    "df_claims_sample[num_cols] = scaler.fit_transform(df_claims_sample[num_cols])\n",
    "\n",
    "# reorder target to be num cols, cat cols and target\n",
    "df_claims_sample = df_claims_sample[num_cols + cat_cols + [target]]\n",
    "\n",
    "print(df_claims_sample.shape)\n",
    "\n",
    "data = df_claims_sample\n",
    "\n",
    "avg_correlation_cols = avg_correlation(data)\n",
    "avg_correlation_cols = [col[0] for col in avg_correlation_cols if col[0] in num_cols]\n",
    "avg_correlation_cols = [col for col in avg_correlation_cols][:int(data.shape[1]*0.3)]\n",
    "\n",
    "# data config\n",
    "data_config = {\n",
    "    'target': target,\n",
    "    'features_idx': [idx for idx in range(0, data.shape[1]) if data.columns[idx] != target],\n",
    "    'split_col_idx': [data.columns.tolist().index(col) for col in avg_correlation_cols],\n",
    "    'ms_col_idx': [idx for idx in range(0, data.shape[1]) if data.columns[idx] in num_cols],\n",
    "    'obs_col_idx': [idx for idx in range(0, data.shape[1]) if data.columns[idx] in cat_cols],\n",
    "    \"num_cols\": len(num_cols),\n",
    "    'task_type': 'regression',\n",
    "    'clf_type': 'none',\n",
    "    'data_type': 'tabular'\n",
    "}"
   ]
  },
  {
   "cell_type": "code",
   "execution_count": 96,
   "id": "22ce38ce",
   "metadata": {},
   "outputs": [
    {
     "data": {
      "text/plain": [
       "{'target': 'DaysInHospital',\n",
       " 'features_idx': [0,\n",
       "  1,\n",
       "  2,\n",
       "  3,\n",
       "  4,\n",
       "  5,\n",
       "  6,\n",
       "  7,\n",
       "  8,\n",
       "  9,\n",
       "  10,\n",
       "  11,\n",
       "  12,\n",
       "  13,\n",
       "  14,\n",
       "  15,\n",
       "  16,\n",
       "  17,\n",
       "  18,\n",
       "  19,\n",
       "  20,\n",
       "  21,\n",
       "  22,\n",
       "  23,\n",
       "  24,\n",
       "  25,\n",
       "  26,\n",
       "  27,\n",
       "  28,\n",
       "  29,\n",
       "  30,\n",
       "  31,\n",
       "  32,\n",
       "  33,\n",
       "  34,\n",
       "  35,\n",
       "  36,\n",
       "  37,\n",
       "  38,\n",
       "  39],\n",
       " 'split_col_idx': [28, 26, 21, 19, 20, 22, 24, 3, 8, 1, 17, 16],\n",
       " 'ms_col_idx': [0,\n",
       "  1,\n",
       "  2,\n",
       "  3,\n",
       "  4,\n",
       "  5,\n",
       "  6,\n",
       "  7,\n",
       "  8,\n",
       "  9,\n",
       "  10,\n",
       "  11,\n",
       "  12,\n",
       "  13,\n",
       "  14,\n",
       "  15,\n",
       "  16,\n",
       "  17,\n",
       "  18,\n",
       "  19,\n",
       "  20,\n",
       "  21,\n",
       "  22,\n",
       "  23,\n",
       "  24,\n",
       "  25,\n",
       "  26,\n",
       "  27,\n",
       "  28],\n",
       " 'obs_col_idx': [29, 30, 31, 32, 33, 34, 35, 36, 37, 38, 39],\n",
       " 'num_cols': 29,\n",
       " 'task_type': 'regression',\n",
       " 'clf_type': 'none',\n",
       " 'data_type': 'tabular'}"
      ]
     },
     "execution_count": 96,
     "metadata": {},
     "output_type": "execute_result"
    }
   ],
   "source": [
    "data_config"
   ]
  },
  {
   "cell_type": "code",
   "execution_count": 136,
   "id": "486b3b6a",
   "metadata": {},
   "outputs": [],
   "source": [
    "import json\n",
    "data.to_csv('./data/HHP_herritage_health/data_cleaned.csv', index=False)\n",
    "with open('./data/HHP_herritage_health/data_config.json', 'w') as f:\n",
    "    json.dump(data_config, f)"
   ]
  },
  {
   "cell_type": "code",
   "execution_count": 132,
   "id": "1ce70ef0",
   "metadata": {},
   "outputs": [
    {
     "data": {
      "text/plain": [
       "(20000, 41)"
      ]
     },
     "execution_count": 132,
     "metadata": {},
     "output_type": "execute_result"
    }
   ],
   "source": [
    "data.shape"
   ]
  },
  {
   "cell_type": "code",
   "execution_count": 133,
   "id": "8fab1d47",
   "metadata": {},
   "outputs": [
    {
     "data": {
      "text/plain": [
       "[28, 26, 21, 19, 20, 22, 24, 3, 8, 1, 17, 16]"
      ]
     },
     "execution_count": 133,
     "metadata": {},
     "output_type": "execute_result"
    }
   ],
   "source": [
    "data_config['split_col_idx']"
   ]
  },
  {
   "cell_type": "code",
   "execution_count": 134,
   "id": "90cf2ce2",
   "metadata": {},
   "outputs": [
    {
     "data": {
      "text/plain": [
       "[('PrimaryConditionGroup_counts', 0.3864239983213965),\n",
       " ('DSFS_max', 0.379281518226531),\n",
       " ('DSFS_range', 0.37834153177851154),\n",
       " ('ProviderID_counts', 0.3705526369259498),\n",
       " ('Vendor_counts', 0.3486021132796735),\n",
       " ('Specialty_counts', 0.334115808932216),\n",
       " ('PayDelay_range', 0.32899664523259314),\n",
       " ('DSFS_mean', 0.3202303589213353),\n",
       " ('CharlsonIndex_max', 0.31769131604659934),\n",
       " ('DrugCount_range', 0.31404307198029224),\n",
       " ('CharlsonIndex_mean', 0.3070737286715878),\n",
       " ('PayDelay_max', 0.30628634315534065),\n",
       " ('ProcedureGroup_counts', 0.30367602120703774),\n",
       " ('DrugCount_max', 0.3035214282226342),\n",
       " ('LabCount_range', 0.29870500287843166),\n",
       " ('DSFS_std', 0.29154984045580734),\n",
       " ('DrugCount_std', 0.2852965709825898),\n",
       " ('PlaceSvc_counts', 0.2798536241838592),\n",
       " ('AgeAtFirstClaim', 0.277469585403599),\n",
       " ('CharlsonIndex_range', 0.25864202744291603),\n",
       " ('LabCount_max', 0.2573764414379535),\n",
       " ('LabCount_std', 0.25170822907034757),\n",
       " ('CharlsonIndex_std', 0.23800960834661064),\n",
       " ('PayDelay_std', 0.19992790282948686),\n",
       " ('DrugCount_mean', 0.19921663934793615),\n",
       " ('LabCount_mean', 0.14189290500624538),\n",
       " ('PayDelay_mean', 0.1403143219430346),\n",
       " ('PCP_counts', 0.05804486263144454)]"
      ]
     },
     "execution_count": 134,
     "metadata": {},
     "output_type": "execute_result"
    }
   ],
   "source": [
    "avg_correlation(data[num_cols])"
   ]
  },
  {
   "cell_type": "code",
   "execution_count": 135,
   "id": "98a1da0f",
   "metadata": {},
   "outputs": [
    {
     "data": {
      "text/plain": [
       "claim_counts                    0.192940\n",
       "AgeAtFirstClaim                 0.167797\n",
       "DrugCount_max                   0.165899\n",
       "CharlsonIndex_mean              0.164417\n",
       "CharlsonIndex_max               0.163108\n",
       "PrimaryConditionGroup_counts    0.148388\n",
       "DrugCount_range                 0.146674\n",
       "DrugCount_mean                  0.136458\n",
       "DrugCount_std                   0.135639\n",
       "DSFS_mean                       0.132081\n",
       "LabCount_range                  0.131676\n",
       "DSFS_max                        0.123490\n",
       "DSFS_range                      0.121696\n",
       "ProviderID_counts               0.118740\n",
       "Vendor_counts                   0.112199\n",
       "CharlsonIndex_range             0.112028\n",
       "LabCount_max                    0.109704\n",
       "LabCount_std                    0.105888\n",
       "CharlsonIndex_std               0.097125\n",
       "PlaceSvc_counts                 0.095415\n",
       "PayDelay_range                  0.087818\n",
       "DSFS_std                        0.078829\n",
       "Specialty_counts                0.074838\n",
       "PayDelay_max                    0.073684\n",
       "ProcedureGroup_counts           0.053767\n",
       "PayDelay_std                    0.029089\n",
       "LabCount_mean                   0.025844\n",
       "PayDelay_mean                   0.012082\n",
       "PCP_counts                      0.000322\n",
       "dtype: float64"
      ]
     },
     "execution_count": 135,
     "metadata": {},
     "output_type": "execute_result"
    }
   ],
   "source": [
    "data[num_cols].corrwith(data['DaysInHospital']).abs().sort_values(ascending = False)"
   ]
  },
  {
   "cell_type": "code",
   "execution_count": 6,
   "id": "b355ac6b",
   "metadata": {},
   "outputs": [],
   "source": [
    "data_config"
   ]
  },
  {
   "cell_type": "code",
   "execution_count": 58,
   "id": "33b3b1bb",
   "metadata": {},
   "outputs": [],
   "source": [
    "from sklearn.preprocessing import StandardScaler, MinMaxScaler\n",
    "from sklearn.model_selection import train_test_split\n",
    "\n",
    "X = df_claims_sample[num_cols]\n",
    "y = df_claims_sample[target]\n",
    "X_train, X_test, y_train, y_test = train_test_split(X, y, test_size=0.2, random_state=42)\n",
    "X_train.shape, X_test.shape"
   ]
  },
  {
   "cell_type": "code",
   "execution_count": 56,
   "id": "6c5ed5b3",
   "metadata": {},
   "outputs": [],
   "source": [
    "from sklearn.linear_model import RidgeCV\n",
    "from sklearn.neural_network import MLPRegressor\n",
    "from sklearn.metrics import mean_squared_error, mean_squared_log_error\n",
    "\n",
    "model = RidgeCV(alphas=[1e-3, 1e-2, 1e-1, 1, 10]).fit(X_train, y_train)\n",
    "model.fit(X_train, y_train)\n",
    "y_pred = model.predict(X_test)\n",
    "print(np.sqrt(mean_squared_error(y_test, y_pred)), np.sqrt(mean_squared_log_error(y_test, y_pred)))"
   ]
  },
  {
   "cell_type": "code",
   "execution_count": 59,
   "id": "3f0a873d",
   "metadata": {},
   "outputs": [],
   "source": [
    "from sklearn.neural_network import MLPRegressor\n",
    "from sklearn.metrics import mean_squared_error, mean_squared_log_error\n",
    "\n",
    "model = MLPRegressor(hidden_layer_sizes=(128, 128), max_iter=1000, alpha=0.5, random_state=42, verbose=True)\n",
    "model.fit(X_train, y_train)\n",
    "\n",
    "y_pred = model.predict(X_test)\n",
    "\n",
    "print(np.sqrt(mean_squared_error(y_test, y_pred)))"
   ]
  },
  {
   "cell_type": "markdown",
   "id": "669e9b59",
   "metadata": {},
   "source": [
    "## California Housing"
   ]
  },
  {
   "cell_type": "code",
   "execution_count": 19,
   "id": "e36ba30b",
   "metadata": {},
   "outputs": [],
   "source": [
    "from sklearn.preprocessing import PowerTransformer\n",
    "def outlier_remove_iqr(data, col):\n",
    "    Q1 = data[col].quantile(0.25)\n",
    "    Q3 = data[col].quantile(0.75)\n",
    "    IQR = Q3 - Q1\n",
    "    data = data[(data[col] >= (Q1 - 1.5 * IQR)) & (data[col] <= (Q3 + 1.5 * IQR))]\n",
    "    return data\n",
    "\n",
    "def convert_gaussian(data, col):\n",
    "    pt = PowerTransformer()\n",
    "    data[col] = pt.fit_transform(data[col].values.reshape(-1, 1)).flatten()\n",
    "    return data"
   ]
  },
  {
   "cell_type": "code",
   "execution_count": 73,
   "id": "c7c476ad",
   "metadata": {},
   "outputs": [
    {
     "name": "stdout",
     "output_type": "stream",
     "text": [
      "(20640, 9)\n",
      "(20640, 9)\n",
      "(17309, 9)\n",
      "{'target': 'MedHouseVal', 'features_idx': [0, 1, 2, 3, 4, 5, 6, 7], 'split_col_idx': [0, 2, 5], 'ms_col_idx': [0, 1, 2, 3, 4, 5, 6, 7], 'obs_col_idx': [4, 7], 'num_cols': 8, 'task_type': 'regression', 'clf_type': 'none', 'data_type': 'tabular'}\n"
     ]
    }
   ],
   "source": [
    "from sklearn.datasets import fetch_california_housing, fetch_kddcup99\n",
    "from sklearn.pipeline import Pipeline\n",
    "from sklearn.preprocessing import StandardScaler, MinMaxScaler\n",
    "import pandas as pd\n",
    "housing = fetch_california_housing()\n",
    "data = pd.DataFrame(data=housing.data, columns=housing.feature_names)\n",
    "target_col = 'MedHouseVal'\n",
    "data[target_col] = housing.target\n",
    "\n",
    "# drop missing values\n",
    "print(data.shape)\n",
    "data = data.dropna()\n",
    "print(data.shape)\n",
    "\n",
    "# remove outliers\n",
    "data = outlier_remove_iqr(data, 'AveRooms')\n",
    "data = outlier_remove_iqr(data, 'AveBedrms')\n",
    "data = outlier_remove_iqr(data, 'Population')\n",
    "data = outlier_remove_iqr(data, 'AveOccup')\n",
    "\n",
    "# gaussian transform\n",
    "data = convert_gaussian(data, 'MedInc')\n",
    "\n",
    "num_cols = data.columns.tolist()[:-1]\n",
    "\n",
    "scaler = Pipeline([\n",
    "    ('standard', StandardScaler()),\n",
    "    ('minmax', MinMaxScaler())\n",
    "])\n",
    "\n",
    "data[num_cols] = scaler.fit_transform(data[num_cols])\n",
    "print(data.shape)\n",
    "\n",
    "data_config = {\n",
    "    'target': target_col,\n",
    "    'features_idx': list(range(len(data.columns)-1)),\n",
    "    'split_col_idx': [0, 2, 5],\n",
    "    'ms_col_idx': list(range(len(num_cols))),\n",
    "    'obs_col_idx': [4, 7],\n",
    "    'num_cols': len(num_cols),\n",
    "    'task_type': 'regression',\n",
    "    'clf_type': 'none',\n",
    "    'data_type': 'tabular'\n",
    "}\n",
    "\n",
    "print(data_config)"
   ]
  },
  {
   "cell_type": "code",
   "execution_count": 72,
   "id": "9c088b77",
   "metadata": {},
   "outputs": [
    {
     "data": {
      "text/plain": [
       "Index(['MedInc', 'HouseAge', 'AveRooms', 'AveBedrms', 'Population', 'AveOccup',\n",
       "       'Latitude', 'Longitude', 'MedHouseVal'],\n",
       "      dtype='object')"
      ]
     },
     "execution_count": 72,
     "metadata": {},
     "output_type": "execute_result"
    }
   ],
   "source": [
    "data.columns"
   ]
  },
  {
   "cell_type": "code",
   "execution_count": 76,
   "id": "1b1aa99f",
   "metadata": {},
   "outputs": [
    {
     "data": {
      "text/plain": [
       "<Axes: >"
      ]
     },
     "execution_count": 76,
     "metadata": {},
     "output_type": "execute_result"
    },
    {
     "data": {
      "image/png": "[encoded data removed]",
      "text/plain": [
       "<Figure size 640x480 with 1 Axes>"
      ]
     },
     "metadata": {},
     "output_type": "display_data"
    }
   ],
   "source": [
    "data[target_col].hist(bins=100)"
   ]
  },
  {
   "cell_type": "code",
   "execution_count": 74,
   "id": "f635dfeb",
   "metadata": {},
   "outputs": [],
   "source": [
    "data.to_csv('./data/california/data_cleaned.csv', index=False)\n",
    "import json\n",
    "with open('./data/california/data_config.json', 'w') as f:\n",
    "    json.dump(data_config, f)"
   ]
  },
  {
   "cell_type": "code",
   "execution_count": 62,
   "id": "da5543df",
   "metadata": {},
   "outputs": [
    {
     "data": {
      "text/plain": [
       "MedInc        0.664471\n",
       "AveRooms      0.348928\n",
       "AveOccup      0.300296\n",
       "Latitude      0.144745\n",
       "HouseAge      0.113715\n",
       "AveBedrms     0.079084\n",
       "Population    0.047934\n",
       "Longitude     0.039642\n",
       "dtype: float64"
      ]
     },
     "execution_count": 62,
     "metadata": {},
     "output_type": "execute_result"
    }
   ],
   "source": [
    "data[num_cols].corrwith(data[target_col]).abs().sort_values(ascending = False)"
   ]
  },
  {
   "cell_type": "code",
   "execution_count": 63,
   "id": "f00c220a",
   "metadata": {},
   "outputs": [
    {
     "data": {
      "text/plain": [
       "[('Latitude', 0.3028299648218262),\n",
       " ('MedInc', 0.28646477855582314),\n",
       " ('AveRooms', 0.28186323119560286),\n",
       " ('Population', 0.23566774029312026),\n",
       " ('HouseAge', 0.22605015420178803),\n",
       " ('AveOccup', 0.22438995954950725),\n",
       " ('AveBedrms', 0.1939950364378315)]"
      ]
     },
     "execution_count": 63,
     "metadata": {},
     "output_type": "execute_result"
    }
   ],
   "source": [
    "avg_correlation(data[num_cols])"
   ]
  },
  {
   "cell_type": "code",
   "execution_count": 71,
   "id": "d41e0708",
   "metadata": {},
   "outputs": [
    {
     "data": {
      "image/png": "[encoded data removed]",
      "text/plain": [
       "<Figure size 800x600 with 2 Axes>"
      ]
     },
     "metadata": {},
     "output_type": "display_data"
    }
   ],
   "source": [
    "show_heatmap(data[num_cols])"
   ]
  },
  {
   "cell_type": "code",
   "execution_count": 68,
   "id": "bdc81f5c",
   "metadata": {},
   "outputs": [
    {
     "name": "stdout",
     "output_type": "stream",
     "text": [
      "Iteration 1, loss = 0.97413237\n",
      "Iteration 2, loss = 0.45499365\n",
      "Iteration 3, loss = 0.32533590\n",
      "Iteration 4, loss = 0.28918070\n",
      "Iteration 5, loss = 0.27170242\n",
      "Iteration 6, loss = 0.25921498\n",
      "Iteration 7, loss = 0.25179445\n",
      "Iteration 8, loss = 0.24613219\n",
      "Iteration 9, loss = 0.23848991\n",
      "Iteration 10, loss = 0.23326281\n",
      "Iteration 11, loss = 0.23049667\n",
      "Iteration 12, loss = 0.22712086\n",
      "Iteration 13, loss = 0.22382020\n",
      "Iteration 14, loss = 0.22039476\n",
      "Iteration 15, loss = 0.21756251\n",
      "Iteration 16, loss = 0.21669183\n",
      "Iteration 17, loss = 0.21452886\n",
      "Iteration 18, loss = 0.21177884\n",
      "Iteration 19, loss = 0.21107140\n",
      "Iteration 20, loss = 0.21204991\n",
      "Iteration 21, loss = 0.21017200\n",
      "Iteration 22, loss = 0.20922645\n",
      "Iteration 23, loss = 0.20517622\n",
      "Iteration 24, loss = 0.20462825\n",
      "Iteration 25, loss = 0.20369707\n",
      "Iteration 26, loss = 0.20428438\n",
      "Iteration 27, loss = 0.20535756\n",
      "Iteration 28, loss = 0.20225805\n",
      "Iteration 29, loss = 0.20209686\n",
      "Iteration 30, loss = 0.20007093\n",
      "Iteration 31, loss = 0.20116552\n",
      "Iteration 32, loss = 0.20055858\n",
      "Iteration 33, loss = 0.19893243\n",
      "Iteration 34, loss = 0.19853060\n",
      "Iteration 35, loss = 0.19753696\n",
      "Iteration 36, loss = 0.19752009\n",
      "Iteration 37, loss = 0.19687048\n",
      "Iteration 38, loss = 0.19671446\n",
      "Iteration 39, loss = 0.19695337\n",
      "Iteration 40, loss = 0.19875816\n",
      "Iteration 41, loss = 0.19490107\n",
      "Iteration 42, loss = 0.19475682\n",
      "Iteration 43, loss = 0.19489299\n",
      "Iteration 44, loss = 0.19567393\n",
      "Iteration 45, loss = 0.19670799\n",
      "Iteration 46, loss = 0.19436180\n",
      "Iteration 47, loss = 0.19439480\n",
      "Iteration 48, loss = 0.19432594\n",
      "Iteration 49, loss = 0.19396597\n",
      "Iteration 50, loss = 0.19393382\n",
      "Iteration 51, loss = 0.19369891\n",
      "Iteration 52, loss = 0.19356560\n",
      "Iteration 53, loss = 0.19912565\n",
      "Iteration 54, loss = 0.19404415\n",
      "Iteration 55, loss = 0.19423412\n",
      "Iteration 56, loss = 0.19169290\n",
      "Iteration 57, loss = 0.19184098\n",
      "Iteration 58, loss = 0.19377948\n",
      "Iteration 59, loss = 0.19169683\n",
      "Iteration 60, loss = 0.19240454\n",
      "Iteration 61, loss = 0.19077089\n",
      "Iteration 62, loss = 0.19159520\n",
      "Iteration 63, loss = 0.19322309\n",
      "Iteration 64, loss = 0.19128369\n",
      "Iteration 65, loss = 0.19031512\n",
      "Iteration 66, loss = 0.19122156\n",
      "Iteration 67, loss = 0.19175571\n",
      "Iteration 68, loss = 0.19209912\n",
      "Iteration 69, loss = 0.19075557\n",
      "Iteration 70, loss = 0.19154186\n",
      "Iteration 71, loss = 0.19165612\n",
      "Iteration 72, loss = 0.19232000\n",
      "Iteration 73, loss = 0.19005045\n",
      "Iteration 74, loss = 0.19130728\n",
      "Iteration 75, loss = 0.19012687\n",
      "Iteration 76, loss = 0.18995047\n",
      "Iteration 77, loss = 0.19193436\n",
      "Iteration 78, loss = 0.19009068\n",
      "Iteration 79, loss = 0.19011386\n",
      "Iteration 80, loss = 0.18980844\n",
      "Iteration 81, loss = 0.18987094\n",
      "Iteration 82, loss = 0.18882352\n",
      "Iteration 83, loss = 0.19131107\n",
      "Iteration 84, loss = 0.19056808\n",
      "Iteration 85, loss = 0.18963497\n",
      "Iteration 86, loss = 0.18942708\n",
      "Iteration 87, loss = 0.18871818\n",
      "Iteration 88, loss = 0.18857192\n",
      "Iteration 89, loss = 0.18897213\n",
      "Iteration 90, loss = 0.19073251\n",
      "Iteration 91, loss = 0.18973509\n",
      "Iteration 92, loss = 0.18964564\n",
      "Iteration 93, loss = 0.18913197\n",
      "Iteration 94, loss = 0.18884604\n",
      "Iteration 95, loss = 0.18987295\n",
      "Iteration 96, loss = 0.18884046\n",
      "Iteration 97, loss = 0.18904024\n",
      "Iteration 98, loss = 0.18857412\n",
      "Iteration 99, loss = 0.18957724\n",
      "Training loss did not improve more than tol=0.000100 for 10 consecutive epochs. Stopping.\n",
      "0.5777250714892551\n"
     ]
    }
   ],
   "source": [
    "from sklearn.preprocessing import StandardScaler, MinMaxScaler\n",
    "from sklearn.model_selection import train_test_split\n",
    "\n",
    "X = data[num_cols]\n",
    "y = data[target_col]\n",
    "X_train, X_test, y_train, y_test = train_test_split(X, y, test_size=0.2, random_state=42)\n",
    "X_train.shape, X_test.shape\n",
    "\n",
    "from sklearn.neural_network import MLPRegressor\n",
    "from sklearn.metrics import mean_squared_error, mean_squared_log_error\n",
    "\n",
    "model = MLPRegressor(hidden_layer_sizes=(128, 128), max_iter=1000, alpha=0.5, random_state=42, verbose=True)\n",
    "model.fit(X_train, y_train)\n",
    "\n",
    "y_pred = model.predict(X_test)\n",
    "\n",
    "print(np.sqrt(mean_squared_error(y_test, y_pred)))"
   ]
  },
  {
   "cell_type": "markdown",
   "id": "cc2cdaeb",
   "metadata": {},
   "source": [
    "## Dvisits"
   ]
  },
  {
   "cell_type": "code",
   "execution_count": 7,
   "id": "fadd67e6",
   "metadata": {},
   "outputs": [
    {
     "name": "stdout",
     "output_type": "stream",
     "text": [
      "Requirement already satisfied: pyreadr in m:\\miniconda3\\envs\\fed_imp\\lib\\site-packages (0.5.0)\n",
      "Requirement already satisfied: pandas>=1.2.0 in m:\\miniconda3\\envs\\fed_imp\\lib\\site-packages (from pyreadr) (2.2.1)\n",
      "Requirement already satisfied: numpy<2,>=1.22.4 in m:\\miniconda3\\envs\\fed_imp\\lib\\site-packages (from pandas>=1.2.0->pyreadr) (1.24.3)\n",
      "Requirement already satisfied: python-dateutil>=2.8.2 in m:\\miniconda3\\envs\\fed_imp\\lib\\site-packages (from pandas>=1.2.0->pyreadr) (2.8.2)\n",
      "Requirement already satisfied: pytz>=2020.1 in m:\\miniconda3\\envs\\fed_imp\\lib\\site-packages (from pandas>=1.2.0->pyreadr) (2023.3.post1)\n",
      "Requirement already satisfied: tzdata>=2022.7 in m:\\miniconda3\\envs\\fed_imp\\lib\\site-packages (from pandas>=1.2.0->pyreadr) (2023.3)\n",
      "Requirement already satisfied: six>=1.5 in m:\\miniconda3\\envs\\fed_imp\\lib\\site-packages (from python-dateutil>=2.8.2->pandas>=1.2.0->pyreadr) (1.16.0)\n"
     ]
    }
   ],
   "source": [
    "! pip install pyreadr"
   ]
  },
  {
   "cell_type": "code",
   "execution_count": 21,
   "id": "20295f14",
   "metadata": {},
   "outputs": [],
   "source": [
    "def convert_gaussian(data, col):\n",
    "    pt = PowerTransformer()\n",
    "    data[col] = pt.fit_transform(data[col].values.reshape(-1, 1)).flatten()\n",
    "    return data"
   ]
  },
  {
   "cell_type": "code",
   "execution_count": 92,
   "id": "94ddd541",
   "metadata": {},
   "outputs": [
    {
     "name": "stdout",
     "output_type": "stream",
     "text": [
      "(5190, 16)\n",
      "(5190, 14)\n",
      "{'target': 'medicine', 'features_idx': [0, 1, 2, 3, 4, 5, 6, 7, 8, 9, 10, 11, 12], 'split_col_idx': [2, 0, 1], 'ms_col_idx': [0, 1, 2, 3, 4, 5, 6, 7, 8], 'obs_col_idx': [9, 10, 11, 12], 'num_cols': 9, 'task_type': 'regression', 'clf_type': 'none', 'data_type': 'tabular'}\n"
     ]
    }
   ],
   "source": [
    "import pyreadr\n",
    "from sklearn.pipeline import Pipeline\n",
    "from sklearn.preprocessing import StandardScaler, MinMaxScaler\n",
    "import pandas as pd\n",
    "result = pyreadr.read_r('./data/dvisits/dvisits.rda')  \n",
    "data = result['dvisits']\n",
    "data = data.drop(['prescrib', 'nonpresc', 'agesq'], axis=1)\n",
    "print(data.shape)\n",
    "\n",
    "num_cols = ['age', 'income', 'illness', 'actdays', 'hscore', 'hospadmi', 'hospdays', 'chcond1', 'chcond2']\n",
    "cat_cols = ['sex', 'levyplus', 'freepoor', 'freerepa']\n",
    "target_col = 'medicine'\n",
    "\n",
    "data = data[num_cols + cat_cols + [target_col]]\n",
    "\n",
    "scaler = Pipeline([\n",
    "    ('standard', StandardScaler()),\n",
    "    ('minmax', MinMaxScaler())\n",
    "])\n",
    "data[num_cols] = scaler.fit_transform(data[num_cols])\n",
    "print(data.shape)\n",
    "\n",
    "data_config = {\n",
    "    'target': target_col,\n",
    "    'features_idx': list(range(len(data.columns)-1)),\n",
    "    'split_col_idx': [2, 0, 1],\n",
    "    'ms_col_idx': [idx for idx in range(0, data.shape[1]) if data.columns[idx] in num_cols],\n",
    "    'obs_col_idx': [idx for idx in range(0, data.shape[1]) if data.columns[idx] in cat_cols],\n",
    "    'num_cols': len(num_cols),\n",
    "    'task_type': 'regression',\n",
    "    'clf_type': 'none',\n",
    "    'data_type': 'tabular'\n",
    "}\n",
    "\n",
    "print(data_config)\n"
   ]
  },
  {
   "cell_type": "code",
   "execution_count": 88,
   "id": "11ee4795",
   "metadata": {},
   "outputs": [
    {
     "data": {
      "text/plain": [
       "Index(['age', 'income', 'illness', 'actdays', 'hscore', 'hospadmi', 'hospdays',\n",
       "       'chcond1', 'chcond2', 'sex', 'levyplus', 'freepoor', 'freerepa',\n",
       "       'medicine'],\n",
       "      dtype='object')"
      ]
     },
     "execution_count": 88,
     "metadata": {},
     "output_type": "execute_result"
    }
   ],
   "source": [
    "data.columns"
   ]
  },
  {
   "cell_type": "code",
   "execution_count": 93,
   "id": "902ffdaa",
   "metadata": {},
   "outputs": [],
   "source": [
    "data.to_csv('./data/dvisits/data_cleaned.csv', index=False)\n",
    "import json\n",
    "with open('./data/dvisits/data_config.json', 'w') as f:\n",
    "    json.dump(data_config, f)"
   ]
  },
  {
   "cell_type": "code",
   "execution_count": 89,
   "id": "f67beed2",
   "metadata": {},
   "outputs": [
    {
     "data": {
      "text/plain": [
       "medicine    1.000000\n",
       "illness     0.456117\n",
       "age         0.376949\n",
       "freerepa    0.281884\n",
       "sex         0.267897\n",
       "actdays     0.246586\n",
       "chcond2     0.241836\n",
       "chcond1     0.236797\n",
       "hscore      0.225632\n",
       "hospadmi    0.200588\n",
       "income      0.160023\n",
       "hospdays    0.158207\n",
       "freepoor    0.070637\n",
       "levyplus    0.003904\n",
       "dtype: float64"
      ]
     },
     "execution_count": 89,
     "metadata": {},
     "output_type": "execute_result"
    }
   ],
   "source": [
    "data.corrwith(data[target_col]).abs().sort_values(ascending = False)"
   ]
  },
  {
   "cell_type": "code",
   "execution_count": 90,
   "id": "2b45c42c",
   "metadata": {},
   "outputs": [
    {
     "data": {
      "text/plain": [
       "[('freerepa', 0.2826145712448704),\n",
       " ('age', 0.2625496803857044),\n",
       " ('illness', 0.25237472403728173),\n",
       " ('income', 0.22401358557175016),\n",
       " ('chcond2', 0.2095798630573001),\n",
       " ('hospadmi', 0.1944899482283382),\n",
       " ('actdays', 0.19392312564135078),\n",
       " ('hscore', 0.19298498719252102),\n",
       " ('hospdays', 0.19012308652873464),\n",
       " ('sex', 0.1899074065874176),\n",
       " ('chcond1', 0.1881901645393886),\n",
       " ('levyplus', 0.16329809452571434),\n",
       " ('freepoor', 0.13762939273313893)]"
      ]
     },
     "execution_count": 90,
     "metadata": {},
     "output_type": "execute_result"
    }
   ],
   "source": [
    "avg_correlation(data)"
   ]
  },
  {
   "cell_type": "code",
   "execution_count": 94,
   "id": "69e3d518",
   "metadata": {},
   "outputs": [
    {
     "data": {
      "image/png": "[encoded data removed]",
      "text/plain": [
       "<Figure size 800x600 with 2 Axes>"
      ]
     },
     "metadata": {},
     "output_type": "display_data"
    }
   ],
   "source": [
    "show_heatmap(data.corr().abs())"
   ]
  },
  {
   "cell_type": "code",
   "execution_count": 84,
   "id": "c28524ea",
   "metadata": {},
   "outputs": [
    {
     "name": "stdout",
     "output_type": "stream",
     "text": [
      "Iteration 1, loss = 1.58173323\n",
      "Iteration 2, loss = 1.22986278\n",
      "Iteration 3, loss = 1.17542533\n",
      "Iteration 4, loss = 1.15623827\n",
      "Iteration 5, loss = 1.14231503\n",
      "Iteration 6, loss = 1.13304195\n",
      "Iteration 7, loss = 1.12630672\n",
      "Iteration 8, loss = 1.11970077\n",
      "Iteration 9, loss = 1.11538334\n",
      "Iteration 10, loss = 1.11094547\n",
      "Iteration 11, loss = 1.10785742\n",
      "Iteration 12, loss = 1.10483637\n",
      "Iteration 13, loss = 1.10291780\n",
      "Iteration 14, loss = 1.10111231\n",
      "Iteration 15, loss = 1.09939165\n",
      "Iteration 16, loss = 1.09731088\n",
      "Iteration 17, loss = 1.09484945\n",
      "Iteration 18, loss = 1.09261121\n",
      "Iteration 19, loss = 1.09151434\n",
      "Iteration 20, loss = 1.09065897\n",
      "Iteration 21, loss = 1.09021606\n",
      "Iteration 22, loss = 1.08789014\n",
      "Iteration 23, loss = 1.09313986\n",
      "Iteration 24, loss = 1.08812165\n",
      "Iteration 25, loss = 1.08524340\n",
      "Iteration 26, loss = 1.08370521\n",
      "Iteration 27, loss = 1.08469365\n",
      "Iteration 28, loss = 1.08685355\n",
      "Iteration 29, loss = 1.08275925\n",
      "Iteration 30, loss = 1.08461600\n",
      "Iteration 31, loss = 1.07990213\n",
      "Iteration 32, loss = 1.08146740\n",
      "Iteration 33, loss = 1.07778056\n",
      "Iteration 34, loss = 1.07849443\n",
      "Iteration 35, loss = 1.07974274\n",
      "Iteration 36, loss = 1.08014831\n",
      "Iteration 37, loss = 1.07919605\n",
      "Iteration 38, loss = 1.08034811\n",
      "Iteration 39, loss = 1.07830838\n",
      "Iteration 40, loss = 1.07679193\n",
      "Iteration 41, loss = 1.07505316\n",
      "Iteration 42, loss = 1.07520539\n",
      "Iteration 43, loss = 1.07561740\n",
      "Iteration 44, loss = 1.07450722\n",
      "Iteration 45, loss = 1.07415635\n",
      "Iteration 46, loss = 1.07401349\n",
      "Iteration 47, loss = 1.07269999\n",
      "Iteration 48, loss = 1.07289757\n",
      "Iteration 49, loss = 1.07241666\n",
      "Iteration 50, loss = 1.07223647\n",
      "Iteration 51, loss = 1.07243502\n",
      "Iteration 52, loss = 1.07477029\n",
      "Iteration 53, loss = 1.07160372\n",
      "Iteration 54, loss = 1.07354839\n",
      "Iteration 55, loss = 1.07213849\n",
      "Iteration 56, loss = 1.07253478\n",
      "Iteration 57, loss = 1.07271181\n",
      "Iteration 58, loss = 1.07058858\n",
      "Iteration 59, loss = 1.07034851\n",
      "Iteration 60, loss = 1.06978275\n",
      "Iteration 61, loss = 1.07029866\n",
      "Iteration 62, loss = 1.07152365\n",
      "Iteration 63, loss = 1.06807005\n",
      "Iteration 64, loss = 1.07329091\n",
      "Iteration 65, loss = 1.07032150\n",
      "Iteration 66, loss = 1.06884532\n",
      "Iteration 67, loss = 1.06900233\n",
      "Iteration 68, loss = 1.06927943\n",
      "Iteration 69, loss = 1.06878275\n",
      "Iteration 70, loss = 1.06776016\n",
      "Iteration 71, loss = 1.06962470\n",
      "Iteration 72, loss = 1.06852683\n",
      "Iteration 73, loss = 1.06794600\n",
      "Iteration 74, loss = 1.06754754\n",
      "Iteration 75, loss = 1.06853572\n",
      "Iteration 76, loss = 1.06938056\n",
      "Iteration 77, loss = 1.06656074\n",
      "Iteration 78, loss = 1.06820486\n",
      "Iteration 79, loss = 1.06880953\n",
      "Iteration 80, loss = 1.06617364\n",
      "Iteration 81, loss = 1.06764423\n",
      "Iteration 82, loss = 1.06654123\n",
      "Iteration 83, loss = 1.06780860\n",
      "Iteration 84, loss = 1.06682232\n",
      "Iteration 85, loss = 1.06688647\n",
      "Iteration 86, loss = 1.06855032\n",
      "Iteration 87, loss = 1.06790169\n",
      "Iteration 88, loss = 1.06607095\n",
      "Iteration 89, loss = 1.06579710\n",
      "Iteration 90, loss = 1.06561128\n",
      "Iteration 91, loss = 1.06901588\n",
      "Iteration 92, loss = 1.06689670\n",
      "Iteration 93, loss = 1.06682106\n",
      "Iteration 94, loss = 1.06658224\n",
      "Iteration 95, loss = 1.06606002\n",
      "Iteration 96, loss = 1.06681130\n",
      "Iteration 97, loss = 1.06509565\n",
      "Iteration 98, loss = 1.07015346\n",
      "Iteration 99, loss = 1.06591043\n",
      "Iteration 100, loss = 1.06623961\n",
      "Iteration 101, loss = 1.06711790\n",
      "Iteration 102, loss = 1.06575054\n",
      "Iteration 103, loss = 1.06547028\n",
      "Iteration 104, loss = 1.06387627\n",
      "Iteration 105, loss = 1.06631395\n",
      "Iteration 106, loss = 1.06622264\n",
      "Iteration 107, loss = 1.06545626\n",
      "Iteration 108, loss = 1.06464620\n",
      "Iteration 109, loss = 1.06592871\n",
      "Iteration 110, loss = 1.06518697\n",
      "Iteration 111, loss = 1.06795901\n",
      "Iteration 112, loss = 1.06472597\n",
      "Iteration 113, loss = 1.06481414\n",
      "Iteration 114, loss = 1.06488523\n",
      "Iteration 115, loss = 1.06578023\n",
      "Training loss did not improve more than tol=0.000100 for 10 consecutive epochs. Stopping.\n",
      "1.4229675087517912\n"
     ]
    }
   ],
   "source": [
    "from sklearn.preprocessing import StandardScaler, MinMaxScaler\n",
    "from sklearn.model_selection import train_test_split\n",
    "\n",
    "X = data[cat_cols]\n",
    "y = data[target_col]\n",
    "X_train, X_test, y_train, y_test = train_test_split(X, y, test_size=0.2, random_state=42)\n",
    "X_train.shape, X_test.shape\n",
    "\n",
    "from sklearn.neural_network import MLPRegressor\n",
    "from sklearn.metrics import mean_squared_error, mean_squared_log_error\n",
    "\n",
    "model = MLPRegressor(hidden_layer_sizes=(128, 128), max_iter=1000, alpha=0.5, random_state=42, verbose=True)\n",
    "model.fit(X_train, y_train)\n",
    "\n",
    "y_pred = model.predict(X_test)\n",
    "\n",
    "print(np.sqrt(mean_squared_error(y_test, y_pred)))"
   ]
  }
 ],
 "metadata": {
  "kernelspec": {
   "display_name": "Python 3",
   "language": "python",
   "name": "python3"
  },
  "language_info": {
   "codemirror_mode": {
    "name": "ipython",
    "version": 3
   },
   "file_extension": ".py",
   "mimetype": "text/x-python",
   "name": "python",
   "nbconvert_exporter": "python",
   "pygments_lexer": "ipython3",
   "version": "3.10.14"
  }
 },
 "nbformat": 4,
 "nbformat_minor": 5
}
