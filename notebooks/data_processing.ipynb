{
 "cells": [
  {
   "cell_type": "code",
   "execution_count": 2,
   "id": "initial_id",
   "metadata": {
    "collapsed": true
   },
   "outputs": [
    {
     "name": "stdout",
     "output_type": "stream",
     "text": [
      "d:\\research\\fedmiss_bench\n"
     ]
    }
   ],
   "source": [
    "cd .."
   ]
  },
  {
   "cell_type": "code",
   "execution_count": 3,
   "id": "9b26046a",
   "metadata": {},
   "outputs": [],
   "source": [
    "%load_ext autoreload\n",
    "%autoreload 2\n",
    "%load_ext dotenv\n",
    "%dotenv\n",
    "import pandas as pd\n",
    "from src.loaders.load_data import load_data\n",
    "from collections import OrderedDict\n",
    "import numpy as np"
   ]
  },
  {
   "cell_type": "code",
   "execution_count": 4,
   "id": "e54e941e",
   "metadata": {},
   "outputs": [
    {
     "data": {
      "text/plain": [
       "array([[9.],\n",
       "       [9.],\n",
       "       [9.],\n",
       "       [9.],\n",
       "       [9.],\n",
       "       [0.],\n",
       "       [9.],\n",
       "       [0.],\n",
       "       [0.],\n",
       "       [9.],\n",
       "       [9.],\n",
       "       [9.],\n",
       "       [0.],\n",
       "       [9.],\n",
       "       [9.],\n",
       "       [9.],\n",
       "       [0.],\n",
       "       [0.],\n",
       "       [9.],\n",
       "       [9.],\n",
       "       [9.],\n",
       "       [9.],\n",
       "       [0.],\n",
       "       [9.],\n",
       "       [9.],\n",
       "       [9.],\n",
       "       [9.],\n",
       "       [0.],\n",
       "       [0.],\n",
       "       [0.],\n",
       "       [9.],\n",
       "       [9.],\n",
       "       [9.],\n",
       "       [0.],\n",
       "       [0.],\n",
       "       [0.],\n",
       "       [0.],\n",
       "       [0.],\n",
       "       [0.],\n",
       "       [0.],\n",
       "       [0.],\n",
       "       [9.],\n",
       "       [9.],\n",
       "       [0.],\n",
       "       [0.],\n",
       "       [9.],\n",
       "       [9.],\n",
       "       [0.],\n",
       "       [0.],\n",
       "       [9.],\n",
       "       [9.],\n",
       "       [9.],\n",
       "       [0.],\n",
       "       [0.],\n",
       "       [0.],\n",
       "       [0.],\n",
       "       [9.],\n",
       "       [9.],\n",
       "       [9.],\n",
       "       [9.],\n",
       "       [9.],\n",
       "       [9.],\n",
       "       [0.],\n",
       "       [9.],\n",
       "       [9.],\n",
       "       [0.],\n",
       "       [0.],\n",
       "       [0.],\n",
       "       [0.],\n",
       "       [0.],\n",
       "       [9.],\n",
       "       [0.],\n",
       "       [0.],\n",
       "       [9.],\n",
       "       [0.],\n",
       "       [9.],\n",
       "       [9.],\n",
       "       [9.],\n",
       "       [9.],\n",
       "       [9.],\n",
       "       [0.],\n",
       "       [9.],\n",
       "       [9.],\n",
       "       [0.],\n",
       "       [0.],\n",
       "       [9.],\n",
       "       [0.],\n",
       "       [9.],\n",
       "       [9.],\n",
       "       [9.],\n",
       "       [0.],\n",
       "       [9.],\n",
       "       [9.],\n",
       "       [0.],\n",
       "       [0.],\n",
       "       [9.],\n",
       "       [9.],\n",
       "       [0.],\n",
       "       [9.],\n",
       "       [9.]])"
      ]
     },
     "execution_count": 4,
     "metadata": {},
     "output_type": "execute_result"
    }
   ],
   "source": [
    "from sklearn.preprocessing import KBinsDiscretizer\n",
    "X = np.random.choice([0, 1], size=(100, 1))\n",
    "est = KBinsDiscretizer(n_bins=10, encode='ordinal', strategy='uniform', subsample = None)\n",
    "est.fit_transform(X)"
   ]
  },
  {
   "cell_type": "markdown",
   "id": "29962f1a",
   "metadata": {},
   "source": [
    "## Functions"
   ]
  },
  {
   "cell_type": "code",
   "execution_count": 59,
   "id": "ff9a9f4a",
   "metadata": {},
   "outputs": [],
   "source": [
    "import matplotlib.pyplot as plt\n",
    "import seaborn as sns\n",
    "\n",
    "def show_heatmap(df, figsize=(8, 6)):\n",
    "    plt.figure(figsize=figsize)\n",
    "    sns.heatmap(df.corr(), annot=True, fmt=\".1f\")\n",
    "    plt.show()"
   ]
  },
  {
   "cell_type": "code",
   "execution_count": 6,
   "id": "c065f7f0",
   "metadata": {},
   "outputs": [],
   "source": [
    "def avg_correlation(df):\n",
    "    avg_correlation_cols = list(OrderedDict(df.corr().abs().mean().sort_values(ascending=False).to_dict()).items())\n",
    "    features = set(df.columns.tolist()[:-1])\n",
    "    avg_correlation_cols = [col for col in avg_correlation_cols if col[0] in features]\n",
    "    return avg_correlation_cols"
   ]
  },
  {
   "cell_type": "code",
   "execution_count": 7,
   "id": "9707b1d5",
   "metadata": {},
   "outputs": [],
   "source": [
    "from sklearn.cluster import KMeans\n",
    "def kbins(data, data_config):\n",
    "\n",
    "    est = KMeans(n_clusters=10, random_state=0)\n",
    "\n",
    "    X = data.iloc[:, data_config['split_col_idx']].values\n",
    "    X = est.fit_predict(X)\n",
    "    \n",
    "    return X"
   ]
  },
  {
   "cell_type": "markdown",
   "id": "494b7397",
   "metadata": {},
   "source": [
    "## Codrna"
   ]
  },
  {
   "cell_type": "code",
   "execution_count": 7,
   "id": "7f594643",
   "metadata": {},
   "outputs": [],
   "source": [
    "df, data_config = load_data('codrna')\n",
    "show_heatmap(df,  figsize = (6,4))\n",
    "print(avg_correlation(df))\n",
    "print(data_config)"
   ]
  },
  {
   "cell_type": "code",
   "execution_count": 38,
   "id": "abd0da75",
   "metadata": {},
   "outputs": [],
   "source": [
    "avg_cols = avg_correlation(df)\n",
    "avg_cols = [col[0] for col in avg_cols]\n",
    "split_col_idx = [df.columns.tolist().index(col) for col in avg_cols]\n",
    "split_col_idx"
   ]
  },
  {
   "cell_type": "code",
   "execution_count": 63,
   "id": "c881b23c",
   "metadata": {},
   "outputs": [],
   "source": [
    "cl = kbins(df, data_config)\n",
    "np.unique(cl, return_counts=True)"
   ]
  },
  {
   "cell_type": "code",
   "execution_count": 41,
   "id": "e0752c46",
   "metadata": {},
   "outputs": [],
   "source": [
    "data_config"
   ]
  },
  {
   "cell_type": "markdown",
   "id": "c9b14ce9",
   "metadata": {},
   "source": [
    "## HHP"
   ]
  },
  {
   "cell_type": "code",
   "execution_count": 46,
   "id": "14b452c6",
   "metadata": {},
   "outputs": [],
   "source": [
    "\n",
    "############################################################################################################\n",
    "# Load data\n",
    "# members\n",
    "df_members = pd.read_csv('./data/HHP_herritage_health/Members.csv')\n",
    "df_members['Sex'] = df_members['Sex'].map({'M': 1, 'F': 0})\n",
    "df_members['AgeAtFirstClaim'] = df_members['AgeAtFirstClaim'].map({\n",
    "    '0-9': 5,\n",
    "    '10-19': 15,\n",
    "    '20-29': 25,\n",
    "    '30-39': 35,\n",
    "    '40-49': 45,\n",
    "    '50-59': 55,\n",
    "    '60-69': 65,\n",
    "    '70-79': 75,\n",
    "    '80+': 90\n",
    "})\n",
    "\n",
    "# drug and lab\n",
    "df_drug = pd.read_csv('./data/HHP_herritage_health/DrugCount.csv')\n",
    "df_drug['DrugCount'] = df_drug['DrugCount'].map({'1': 1, '2': 2, '3': 3, '4': 4, '5': 5, '6': 6, '7+': 10})\n",
    "df_lab = pd.read_csv('./data/HHP_herritage_health/LabCount.csv')\n",
    "df_lab['LabCount'] = df_lab['LabCount'].map(\n",
    "    {'1': 1, '2': 2, '3': 3, '4': 4, '5': 5, '6': 6, '7': 7, '8': 8, '9': 9, '10+': 12}\n",
    ")\n",
    "\n",
    "# days\n",
    "df_days_y2 = pd.read_csv('./data/HHP_herritage_health/DaysInHospital_Y2.csv')\n",
    "df_days_y2['Year'] = 'Y1'\n",
    "df_days_y3 = pd.read_csv('./data/HHP_herritage_health/DaysInHospital_Y3.csv')\n",
    "df_days_y3['Year'] = 'Y2'\n",
    "\n",
    "df_days = pd.concat([df_days_y2, df_days_y3])\n",
    "\n",
    "df_claims = pd.read_csv('./data/HHP_herritage_health/Claims.csv')\n",
    "\n",
    "# divide by provider\n",
    "# providers = df_claims['ProviderID'].value_counts().iloc[: 10].index.tolist()\n",
    "# df_claims = df_claims[df_claims['ProviderID'].isin(providers)]\n",
    "# print(df_claims.shape)\n",
    "\n",
    "df_claims = pd.merge(df_claims, df_members, on='MemberID', how='left')\n",
    "df_claims = pd.merge(df_claims, df_drug, on=['MemberID', 'Year', 'DSFS'], how='left')\n",
    "df_claims = pd.merge(df_claims, df_lab, on=['MemberID', 'Year', 'DSFS'], how='left')\n",
    "df_claims = pd.merge(df_claims, df_days, on=['MemberID', 'Year'], how='left')\n",
    "df_claims = df_claims[df_claims['DaysInHospital'].notna()]\n",
    "print(df_claims.shape)\n",
    "\n",
    "#################################################################################################################\n",
    "# Feature engineering\n",
    "# drop missing age and sex\n",
    "df_claims = df_claims[df_claims['AgeAtFirstClaim'].notna()].copy()\n",
    "df_claims = df_claims[df_claims['Sex'].notna()].copy()\n",
    "df_claims = df_claims[df_claims['DSFS'].notna()].copy()\n",
    "\n",
    "# transform categorical columns\n",
    "def transform1(row):\n",
    "    if pd.isna(row):\n",
    "        return 'None'\n",
    "    else:\n",
    "        return str(int(row))\n",
    "    \n",
    "df_claims['ProviderID'] = df_claims['ProviderID'].map(transform1)\n",
    "df_claims['Vendor'] = df_claims['Vendor'].map(transform1)\n",
    "df_claims['PCP'] = df_claims['PCP'].map(transform1)\n",
    "\n",
    "# handle missing values for categorical columns\n",
    "df_claims['ProcedureGroup'] = df_claims['ProcedureGroup'].fillna('None', inplace=False)\n",
    "df_claims['Specialty'] = df_claims['Specialty'].fillna('None', inplace=False)\n",
    "df_claims['PrimaryConditionGroup'] = df_claims['PrimaryConditionGroup'].fillna('None', inplace=False)\n",
    "df_claims['PlaceSvc'] = df_claims['PlaceSvc'].fillna('None', inplace=False)\n",
    "\n",
    "# encode number of columns\n",
    "df_claims['CharlsonIndex'] = df_claims['CharlsonIndex'].map({'0': 0, '1-2': 1.5, '3-4': 3.5, '5+': 7})\n",
    "df_claims['PayDelay'] = df_claims['PayDelay'].apply(lambda row: int(row) if row != '162+' else 200)\n",
    "df_claims['LengthOfStay'] = df_claims['LengthOfStay'].map({\n",
    "    '1 day': 1, '2 days': 2, '3 days': 3, '4 days': 4, '5 days': 5, '6 days': 6, '1- 2 weeks': 10, '2- 4 weeks': 21, '4- 8 weeks': 42,\n",
    "})\n",
    "df_claims['DSFS'] = df_claims['DSFS'].map({\n",
    "    '0- 1 month': 1, '1- 2 months': 2, '2- 3 months': 3, '3- 4 months': 4, '4- 5 months': 5, '5- 6 months': 6, \n",
    "    '6- 7 months': 7, '7- 8 months': 8, '8- 9 months': 9, '9-10 months': 10, '10-11 months': 11, '11-12 months': 12\n",
    "})\n",
    "\n",
    "# filter all large claims\n",
    "df_claims = df_claims[df_claims['DaysInHospital'] > 0].copy()\n",
    "print(df_claims.shape)\n",
    "\n",
    "# fill mean values for drug and lab counts\n",
    "df_claims['DrugCount'] = df_claims['DrugCount'].fillna(df_claims['DrugCount'].mean(), inplace=False)\n",
    "df_claims['LabCount'] = df_claims['LabCount'].fillna(df_claims['LabCount'].mean(), inplace=False)\n",
    "\n",
    "# drop length of stay\n",
    "df_claims = df_claims.drop(columns=['LengthOfStay'])\n",
    "\n",
    "#########################################################################################################################\n",
    "# Feature selection\n",
    "# numerical features\n",
    "def feature_agg(df, key):\n",
    "    ret = df.groupby(['MemberID', 'Year']).agg(\n",
    "        **{\n",
    "            key+'_mean': pd.NamedAgg(column=key, aggfunc='mean'),\n",
    "            key+'_std': pd.NamedAgg(column=key, aggfunc='std'),\n",
    "            key+'_max': pd.NamedAgg(column=key, aggfunc='max'),\n",
    "            key+'_min': pd.NamedAgg(column=key, aggfunc='min'),\n",
    "        }\n",
    "    )\n",
    "\n",
    "    ret[f'{key}_range'] = ret[f'{key}_max'] - ret[f'{key}_min']\n",
    "    ret = ret.reset_index()\n",
    "    ret = ret.drop(columns=[f'{key}_min'])\n",
    "    \n",
    "    df = pd.merge(df, ret, on=['MemberID', 'Year'], how='left')\n",
    "    df = df.drop(columns=[key])\n",
    "    \n",
    "    return df\n",
    "\n",
    "df_claims = feature_agg(df_claims, 'DSFS')\n",
    "df_claims = feature_agg(df_claims, 'PayDelay')\n",
    "df_claims = feature_agg(df_claims, 'CharlsonIndex')\n",
    "df_claims = feature_agg(df_claims, 'DrugCount')\n",
    "df_claims = feature_agg(df_claims, 'LabCount')\n",
    "\n",
    "def feature_agg2(df, key):\n",
    "    df = df.groupby(['MemberID', 'Year']).agg(key).nunique().reset_index(name = key+'_counts')\n",
    "    df = pd.merge(df_claims, df, on = ['MemberID', 'Year'], how = 'left')\n",
    "    return df\n",
    "\n",
    "df_claims = feature_agg2(df_claims, 'ProviderID')\n",
    "df_claims = feature_agg2(df_claims, 'Vendor')\n",
    "df_claims = feature_agg2(df_claims, 'PCP')\n",
    "df_claims = feature_agg2(df_claims, 'Specialty')\n",
    "df_claims = feature_agg2(df_claims, 'PlaceSvc')\n",
    "df_claims = feature_agg2(df_claims, 'PrimaryConditionGroup')\n",
    "df_claims = feature_agg2(df_claims, 'ProcedureGroup')\n",
    "ret = df_claims.groupby(['MemberID', 'Year']).size().reset_index(name = 'claim_counts')\n",
    "df_claims = pd.merge(df_claims, ret, on = ['MemberID', 'Year'], how = 'left')\n",
    "\n",
    "df_claims.fillna(0, inplace=True)\n",
    "\n",
    "# categoorical one-hot features\n",
    "top_k = 2\n",
    "for col in ['Specialty', 'PlaceSvc', 'PrimaryConditionGroup', 'ProcedureGroup']:\n",
    "    top_k_cols = pd.get_dummies(df_claims[col]).corrwith(df_claims['DaysInHospital']).abs().sort_values(ascending = False)[:top_k]\n",
    "    dummies = pd.get_dummies(df_claims[col])[top_k_cols.index]\n",
    "    dummies.columns = [f'{col}_{idx}' for idx in range(len(dummies.columns))]\n",
    "    df_claims = pd.concat([df_claims, dummies], axis = 1)\n",
    "    df_claims.drop(columns = [col], inplace = True)\n",
    "    \n",
    "df_claims = df_claims.drop(columns = ['MemberID', 'ProviderID', 'Vendor', 'PCP', 'Year'])\n",
    "\n",
    "#########################################################################################################################\n",
    "# Split data\n",
    "# columns\n",
    "num_cols = ['AgeAtFirstClaim']\n",
    "for col in ['CharlsonIndex', 'PayDelay', 'DrugCount', 'LabCount', 'DSFS']:\n",
    "    num_cols += [f'{col}_mean', f'{col}_std', f'{col}_max', f'{col}_range']\n",
    "for col in ['ProviderID', 'Vendor', 'PCP', 'Specialty', 'PlaceSvc', 'PrimaryConditionGroup', 'ProcedureGroup', 'claim']:\n",
    "    num_cols += [f'{col}_counts']\n",
    "print(len(num_cols))\n",
    "\n",
    "cat_cols = ['Sex', 'SupLOS', 'ClaimsTruncated']\n",
    "cat_cols += [f'{col}_{idx}' for col in ['Specialty', 'PlaceSvc', 'PrimaryConditionGroup', 'ProcedureGroup'] for idx in range(top_k)]\n",
    "print(len(cat_cols))\n",
    "\n",
    "target = 'DaysInHospital'\n",
    "\n",
    "# sample data\n",
    "df_claims_sample = df_claims.sample(n = 20000, random_state=42)\n",
    "\n",
    "# standardize\n",
    "from sklearn.preprocessing import StandardScaler, MinMaxScaler\n",
    "\n",
    "scaler = StandardScaler()\n",
    "df_claims_sample[num_cols] = scaler.fit_transform(df_claims_sample[num_cols])\n",
    "scaler = MinMaxScaler()\n",
    "df_claims_sample[num_cols] = scaler.fit_transform(df_claims_sample[num_cols])\n",
    "\n",
    "# reorder target to be num cols, cat cols and target\n",
    "df_claims_sample = df_claims_sample[num_cols + cat_cols + [target]]\n",
    "\n",
    "print(df_claims_sample.shape)\n",
    "\n",
    "data = df_claims_sample\n",
    "\n",
    "avg_correlation_cols = avg_correlation(data)\n",
    "avg_correlation_cols = [col[0] for col in avg_correlation_cols if col[0] in num_cols]\n",
    "avg_correlation_cols = [col for col in avg_correlation_cols][:int(data.shape[1]*0.3)]\n",
    "\n",
    "# data config\n",
    "data_config = {\n",
    "    'target': target,\n",
    "    'features_idx': [idx for idx in range(0, data.shape[1]) if data.columns[idx] != target],\n",
    "    'split_col_idx': [data.columns.tolist().index(col) for col in avg_correlation_cols],\n",
    "    'ms_col_idx': [idx for idx in range(0, data.shape[1]) if data.columns[idx] in num_cols],\n",
    "    'obs_col_idx': [idx for idx in range(0, data.shape[1]) if data.columns[idx] in cat_cols],\n",
    "    \"num_cols\": len(num_cols),\n",
    "    'task_type': 'regression',\n",
    "    'clf_type': 'none',\n",
    "    'data_type': 'tabular'\n",
    "}"
   ]
  },
  {
   "cell_type": "code",
   "execution_count": 9,
   "id": "486b3b6a",
   "metadata": {},
   "outputs": [],
   "source": [
    "# import json\n",
    "# data.to_csv('./data/HHP_herritage_health/data_cleaned.csv', index=False)\n",
    "# with open('./data/HHP_herritage_health/data_config.json', 'w') as f:\n",
    "#     json.dump(data_config, f)"
   ]
  },
  {
   "cell_type": "code",
   "execution_count": 47,
   "id": "1ce70ef0",
   "metadata": {},
   "outputs": [],
   "source": [
    "data.shape"
   ]
  },
  {
   "cell_type": "code",
   "execution_count": 12,
   "id": "8fab1d47",
   "metadata": {},
   "outputs": [],
   "source": [
    "data_config['split_col_idx']"
   ]
  },
  {
   "cell_type": "code",
   "execution_count": 20,
   "id": "90cf2ce2",
   "metadata": {},
   "outputs": [],
   "source": [
    "avg_correlation(data[num_cols])"
   ]
  },
  {
   "cell_type": "code",
   "execution_count": 19,
   "id": "98a1da0f",
   "metadata": {},
   "outputs": [],
   "source": [
    "data[num_cols].corrwith(data['DaysInHospital']).abs().sort_values(ascending = False)"
   ]
  },
  {
   "cell_type": "code",
   "execution_count": 6,
   "id": "b355ac6b",
   "metadata": {},
   "outputs": [],
   "source": [
    "data_config"
   ]
  },
  {
   "cell_type": "code",
   "execution_count": 58,
   "id": "33b3b1bb",
   "metadata": {},
   "outputs": [],
   "source": [
    "from sklearn.preprocessing import StandardScaler, MinMaxScaler\n",
    "from sklearn.model_selection import train_test_split\n",
    "\n",
    "X = df_claims_sample[num_cols]\n",
    "y = df_claims_sample[target]\n",
    "X_train, X_test, y_train, y_test = train_test_split(X, y, test_size=0.2, random_state=42)\n",
    "X_train.shape, X_test.shape"
   ]
  },
  {
   "cell_type": "code",
   "execution_count": 56,
   "id": "6c5ed5b3",
   "metadata": {},
   "outputs": [],
   "source": [
    "from sklearn.linear_model import RidgeCV\n",
    "from sklearn.neural_network import MLPRegressor\n",
    "from sklearn.metrics import mean_squared_error, mean_squared_log_error\n",
    "\n",
    "model = RidgeCV(alphas=[1e-3, 1e-2, 1e-1, 1, 10]).fit(X_train, y_train)\n",
    "model.fit(X_train, y_train)\n",
    "y_pred = model.predict(X_test)\n",
    "print(np.sqrt(mean_squared_error(y_test, y_pred)), np.sqrt(mean_squared_log_error(y_test, y_pred)))"
   ]
  },
  {
   "cell_type": "code",
   "execution_count": 59,
   "id": "3f0a873d",
   "metadata": {},
   "outputs": [],
   "source": [
    "from sklearn.neural_network import MLPRegressor\n",
    "from sklearn.metrics import mean_squared_error, mean_squared_log_error\n",
    "\n",
    "model = MLPRegressor(hidden_layer_sizes=(128, 128), max_iter=1000, alpha=0.5, random_state=42, verbose=True)\n",
    "model.fit(X_train, y_train)\n",
    "\n",
    "y_pred = model.predict(X_test)\n",
    "\n",
    "print(np.sqrt(mean_squared_error(y_test, y_pred)))"
   ]
  },
  {
   "cell_type": "markdown",
   "id": "669e9b59",
   "metadata": {},
   "source": [
    "## California Housing"
   ]
  },
  {
   "cell_type": "code",
   "execution_count": 53,
   "id": "e36ba30b",
   "metadata": {},
   "outputs": [],
   "source": [
    "from sklearn.preprocessing import PowerTransformer\n",
    "def outlier_remove_iqr(data, col):\n",
    "    Q1 = data[col].quantile(0.25)\n",
    "    Q3 = data[col].quantile(0.75)\n",
    "    IQR = Q3 - Q1\n",
    "    data = data[(data[col] >= (Q1 - 1.5 * IQR)) & (data[col] <= (Q3 + 1.5 * IQR))]\n",
    "    return data\n",
    "\n",
    "def convert_gaussian(data, col):\n",
    "    pt = PowerTransformer()\n",
    "    data[col] = pt.fit_transform(data[col].values.reshape(-1, 1)).flatten()\n",
    "    return data"
   ]
  },
  {
   "cell_type": "code",
   "execution_count": 73,
   "id": "c7c476ad",
   "metadata": {},
   "outputs": [
    {
     "name": "stdout",
     "output_type": "stream",
     "text": [
      "(20640, 9)\n",
      "(20640, 9)\n",
      "(17309, 9)\n",
      "{'target': 'MedHouseVal', 'features_idx': [0, 1, 2, 3, 4, 5, 6, 7], 'split_col_idx': [0, 2, 5], 'ms_col_idx': [0, 1, 2, 3, 4, 5, 6, 7], 'obs_col_idx': [4, 7], 'num_cols': 8, 'task_type': 'regression', 'clf_type': 'none', 'data_type': 'tabular'}\n"
     ]
    }
   ],
   "source": [
    "from sklearn.datasets import fetch_california_housing, fetch_kddcup99\n",
    "from sklearn.pipeline import Pipeline\n",
    "from sklearn.preprocessing import StandardScaler, MinMaxScaler\n",
    "import pandas as pd\n",
    "housing = fetch_california_housing()\n",
    "data = pd.DataFrame(data=housing.data, columns=housing.feature_names)\n",
    "target_col = 'MedHouseVal'\n",
    "data[target_col] = housing.target\n",
    "\n",
    "# drop missing values\n",
    "print(data.shape)\n",
    "data = data.dropna()\n",
    "print(data.shape)\n",
    "\n",
    "# remove outliers\n",
    "data = outlier_remove_iqr(data, 'AveRooms')\n",
    "data = outlier_remove_iqr(data, 'AveBedrms')\n",
    "data = outlier_remove_iqr(data, 'Population')\n",
    "data = outlier_remove_iqr(data, 'AveOccup')\n",
    "\n",
    "# gaussian transform\n",
    "data = convert_gaussian(data, 'MedInc')\n",
    "\n",
    "num_cols = data.columns.tolist()[:-1]\n",
    "\n",
    "scaler = Pipeline([\n",
    "    ('standard', StandardScaler()),\n",
    "    ('minmax', MinMaxScaler())\n",
    "])\n",
    "\n",
    "data[num_cols] = scaler.fit_transform(data[num_cols])\n",
    "print(data.shape)\n",
    "\n",
    "data_config = {\n",
    "    'target': target_col,\n",
    "    'features_idx': list(range(len(data.columns)-1)),\n",
    "    'split_col_idx': [0, 2, 5],\n",
    "    'ms_col_idx': list(range(len(num_cols))),\n",
    "    'obs_col_idx': [4, 7],\n",
    "    'num_cols': len(num_cols),\n",
    "    'task_type': 'regression',\n",
    "    'clf_type': 'none',\n",
    "    'data_type': 'tabular'\n",
    "}\n",
    "\n",
    "print(data_config)"
   ]
  },
  {
   "cell_type": "code",
   "execution_count": 72,
   "id": "9c088b77",
   "metadata": {},
   "outputs": [
    {
     "data": {
      "text/plain": [
       "Index(['MedInc', 'HouseAge', 'AveRooms', 'AveBedrms', 'Population', 'AveOccup',\n",
       "       'Latitude', 'Longitude', 'MedHouseVal'],\n",
       "      dtype='object')"
      ]
     },
     "execution_count": 72,
     "metadata": {},
     "output_type": "execute_result"
    }
   ],
   "source": [
    "data.columns"
   ]
  },
  {
   "cell_type": "code",
   "execution_count": 76,
   "id": "1b1aa99f",
   "metadata": {},
   "outputs": [
    {
     "data": {
      "text/plain": [
       "<Axes: >"
      ]
     },
     "execution_count": 76,
     "metadata": {},
     "output_type": "execute_result"
    },
    {
     "data": {
      "image/png": "[encoded data removed]",
      "text/plain": [
       "<Figure size 640x480 with 1 Axes>"
      ]
     },
     "metadata": {},
     "output_type": "display_data"
    }
   ],
   "source": [
    "data[target_col].hist(bins=100)"
   ]
  },
  {
   "cell_type": "code",
   "execution_count": 74,
   "id": "f635dfeb",
   "metadata": {},
   "outputs": [],
   "source": [
    "data.to_csv('./data/california/data_cleaned.csv', index=False)\n",
    "import json\n",
    "with open('./data/california/data_config.json', 'w') as f:\n",
    "    json.dump(data_config, f)"
   ]
  },
  {
   "cell_type": "code",
   "execution_count": 62,
   "id": "da5543df",
   "metadata": {},
   "outputs": [
    {
     "data": {
      "text/plain": [
       "MedInc        0.664471\n",
       "AveRooms      0.348928\n",
       "AveOccup      0.300296\n",
       "Latitude      0.144745\n",
       "HouseAge      0.113715\n",
       "AveBedrms     0.079084\n",
       "Population    0.047934\n",
       "Longitude     0.039642\n",
       "dtype: float64"
      ]
     },
     "execution_count": 62,
     "metadata": {},
     "output_type": "execute_result"
    }
   ],
   "source": [
    "data[num_cols].corrwith(data[target_col]).abs().sort_values(ascending = False)"
   ]
  },
  {
   "cell_type": "code",
   "execution_count": 63,
   "id": "f00c220a",
   "metadata": {},
   "outputs": [
    {
     "data": {
      "text/plain": [
       "[('Latitude', 0.3028299648218262),\n",
       " ('MedInc', 0.28646477855582314),\n",
       " ('AveRooms', 0.28186323119560286),\n",
       " ('Population', 0.23566774029312026),\n",
       " ('HouseAge', 0.22605015420178803),\n",
       " ('AveOccup', 0.22438995954950725),\n",
       " ('AveBedrms', 0.1939950364378315)]"
      ]
     },
     "execution_count": 63,
     "metadata": {},
     "output_type": "execute_result"
    }
   ],
   "source": [
    "avg_correlation(data[num_cols])"
   ]
  },
  {
   "cell_type": "code",
   "execution_count": 71,
   "id": "d41e0708",
   "metadata": {},
   "outputs": [
    {
     "data": {
      "image/png": "[encoded data removed]",
      "text/plain": [
       "<Figure size 800x600 with 2 Axes>"
      ]
     },
     "metadata": {},
     "output_type": "display_data"
    }
   ],
   "source": [
    "show_heatmap(data[num_cols])"
   ]
  },
  {
   "cell_type": "code",
   "execution_count": 68,
   "id": "bdc81f5c",
   "metadata": {},
   "outputs": [
    {
     "name": "stdout",
     "output_type": "stream",
     "text": [
      "Iteration 1, loss = 0.97413237\n",
      "Iteration 2, loss = 0.45499365\n",
      "Iteration 3, loss = 0.32533590\n",
      "Iteration 4, loss = 0.28918070\n",
      "Iteration 5, loss = 0.27170242\n",
      "Iteration 6, loss = 0.25921498\n",
      "Iteration 7, loss = 0.25179445\n",
      "Iteration 8, loss = 0.24613219\n",
      "Iteration 9, loss = 0.23848991\n",
      "Iteration 10, loss = 0.23326281\n",
      "Iteration 11, loss = 0.23049667\n",
      "Iteration 12, loss = 0.22712086\n",
      "Iteration 13, loss = 0.22382020\n",
      "Iteration 14, loss = 0.22039476\n",
      "Iteration 15, loss = 0.21756251\n",
      "Iteration 16, loss = 0.21669183\n",
      "Iteration 17, loss = 0.21452886\n",
      "Iteration 18, loss = 0.21177884\n",
      "Iteration 19, loss = 0.21107140\n",
      "Iteration 20, loss = 0.21204991\n",
      "Iteration 21, loss = 0.21017200\n",
      "Iteration 22, loss = 0.20922645\n",
      "Iteration 23, loss = 0.20517622\n",
      "Iteration 24, loss = 0.20462825\n",
      "Iteration 25, loss = 0.20369707\n",
      "Iteration 26, loss = 0.20428438\n",
      "Iteration 27, loss = 0.20535756\n",
      "Iteration 28, loss = 0.20225805\n",
      "Iteration 29, loss = 0.20209686\n",
      "Iteration 30, loss = 0.20007093\n",
      "Iteration 31, loss = 0.20116552\n",
      "Iteration 32, loss = 0.20055858\n",
      "Iteration 33, loss = 0.19893243\n",
      "Iteration 34, loss = 0.19853060\n",
      "Iteration 35, loss = 0.19753696\n",
      "Iteration 36, loss = 0.19752009\n",
      "Iteration 37, loss = 0.19687048\n",
      "Iteration 38, loss = 0.19671446\n",
      "Iteration 39, loss = 0.19695337\n",
      "Iteration 40, loss = 0.19875816\n",
      "Iteration 41, loss = 0.19490107\n",
      "Iteration 42, loss = 0.19475682\n",
      "Iteration 43, loss = 0.19489299\n",
      "Iteration 44, loss = 0.19567393\n",
      "Iteration 45, loss = 0.19670799\n",
      "Iteration 46, loss = 0.19436180\n",
      "Iteration 47, loss = 0.19439480\n",
      "Iteration 48, loss = 0.19432594\n",
      "Iteration 49, loss = 0.19396597\n",
      "Iteration 50, loss = 0.19393382\n",
      "Iteration 51, loss = 0.19369891\n",
      "Iteration 52, loss = 0.19356560\n",
      "Iteration 53, loss = 0.19912565\n",
      "Iteration 54, loss = 0.19404415\n",
      "Iteration 55, loss = 0.19423412\n",
      "Iteration 56, loss = 0.19169290\n",
      "Iteration 57, loss = 0.19184098\n",
      "Iteration 58, loss = 0.19377948\n",
      "Iteration 59, loss = 0.19169683\n",
      "Iteration 60, loss = 0.19240454\n",
      "Iteration 61, loss = 0.19077089\n",
      "Iteration 62, loss = 0.19159520\n",
      "Iteration 63, loss = 0.19322309\n",
      "Iteration 64, loss = 0.19128369\n",
      "Iteration 65, loss = 0.19031512\n",
      "Iteration 66, loss = 0.19122156\n",
      "Iteration 67, loss = 0.19175571\n",
      "Iteration 68, loss = 0.19209912\n",
      "Iteration 69, loss = 0.19075557\n",
      "Iteration 70, loss = 0.19154186\n",
      "Iteration 71, loss = 0.19165612\n",
      "Iteration 72, loss = 0.19232000\n",
      "Iteration 73, loss = 0.19005045\n",
      "Iteration 74, loss = 0.19130728\n",
      "Iteration 75, loss = 0.19012687\n",
      "Iteration 76, loss = 0.18995047\n",
      "Iteration 77, loss = 0.19193436\n",
      "Iteration 78, loss = 0.19009068\n",
      "Iteration 79, loss = 0.19011386\n",
      "Iteration 80, loss = 0.18980844\n",
      "Iteration 81, loss = 0.18987094\n",
      "Iteration 82, loss = 0.18882352\n",
      "Iteration 83, loss = 0.19131107\n",
      "Iteration 84, loss = 0.19056808\n",
      "Iteration 85, loss = 0.18963497\n",
      "Iteration 86, loss = 0.18942708\n",
      "Iteration 87, loss = 0.18871818\n",
      "Iteration 88, loss = 0.18857192\n",
      "Iteration 89, loss = 0.18897213\n",
      "Iteration 90, loss = 0.19073251\n",
      "Iteration 91, loss = 0.18973509\n",
      "Iteration 92, loss = 0.18964564\n",
      "Iteration 93, loss = 0.18913197\n",
      "Iteration 94, loss = 0.18884604\n",
      "Iteration 95, loss = 0.18987295\n",
      "Iteration 96, loss = 0.18884046\n",
      "Iteration 97, loss = 0.18904024\n",
      "Iteration 98, loss = 0.18857412\n",
      "Iteration 99, loss = 0.18957724\n",
      "Training loss did not improve more than tol=0.000100 for 10 consecutive epochs. Stopping.\n",
      "0.5777250714892551\n"
     ]
    }
   ],
   "source": [
    "from sklearn.preprocessing import StandardScaler, MinMaxScaler\n",
    "from sklearn.model_selection import train_test_split\n",
    "\n",
    "X = data[num_cols]\n",
    "y = data[target_col]\n",
    "X_train, X_test, y_train, y_test = train_test_split(X, y, test_size=0.2, random_state=42)\n",
    "X_train.shape, X_test.shape\n",
    "\n",
    "from sklearn.neural_network import MLPRegressor\n",
    "from sklearn.metrics import mean_squared_error, mean_squared_log_error\n",
    "\n",
    "model = MLPRegressor(hidden_layer_sizes=(128, 128), max_iter=1000, alpha=0.5, random_state=42, verbose=True)\n",
    "model.fit(X_train, y_train)\n",
    "\n",
    "y_pred = model.predict(X_test)\n",
    "\n",
    "print(np.sqrt(mean_squared_error(y_test, y_pred)))"
   ]
  }
 ],
 "metadata": {
  "kernelspec": {
   "display_name": "Python 3",
   "language": "python",
   "name": "python3"
  },
  "language_info": {
   "codemirror_mode": {
    "name": "ipython",
    "version": 3
   },
   "file_extension": ".py",
   "mimetype": "text/x-python",
   "name": "python",
   "nbconvert_exporter": "python",
   "pygments_lexer": "ipython3",
   "version": "3.10.14"
  }
 },
 "nbformat": 4,
 "nbformat_minor": 5
}
